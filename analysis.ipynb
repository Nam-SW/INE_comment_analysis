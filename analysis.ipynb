{
 "cells": [
  {
   "cell_type": "markdown",
   "id": "416f36f3",
   "metadata": {},
   "source": [
    "# data preprocessing"
   ]
  },
  {
   "cell_type": "code",
   "execution_count": 32,
   "id": "ce16638b",
   "metadata": {
    "ExecuteTime": {
     "end_time": "2021-11-12T16:30:38.852713Z",
     "start_time": "2021-11-12T16:30:38.840745Z"
    }
   },
   "outputs": [],
   "source": [
    "import io\n",
    "import json\n",
    "import os\n",
    "import pickle\n",
    "import re\n",
    "from collections import Counter\n",
    "from shutil import rmtree\n",
    "\n",
    "os.environ[\"TF_CPP_MIN_LOG_LEVEL\"] = \"2\"\n",
    "\n",
    "import matplotlib.pyplot as plt\n",
    "import numpy as np\n",
    "import pandas as pd\n",
    "import tensorflow as tf\n",
    "from tensorboard.plugins import projector\n",
    "from PIL import Image\n",
    "from soynlp.normalizer import repeat_normalize\n",
    "from hanspell import spell_checker\n",
    "# from tqdm.notebook import tqdm\n",
    "from tqdm import tqdm\n",
    "from wordcloud import WordCloud\n",
    "\n",
    "from tokenizer import Tokenizer\n",
    "from utils import load_json, save_pickle\n",
    "\n",
    "\n",
    "cfg = load_json(\"config.json\")"
   ]
  },
  {
   "cell_type": "code",
   "execution_count": 2,
   "id": "e0ee10e0",
   "metadata": {},
   "outputs": [],
   "source": [
    "from khaiii_utils import get_khaiii_api, pos_text, stemming_text\n",
    "api = get_khaiii_api('/mnt/subdisk/workspace/khaiii/build/share/khaiii')"
   ]
  },
  {
   "cell_type": "code",
   "execution_count": 3,
   "id": "0ac93e11",
   "metadata": {},
   "outputs": [
    {
     "data": {
      "text/html": [
       "<div>\n",
       "<style scoped>\n",
       "    .dataframe tbody tr th:only-of-type {\n",
       "        vertical-align: middle;\n",
       "    }\n",
       "\n",
       "    .dataframe tbody tr th {\n",
       "        vertical-align: top;\n",
       "    }\n",
       "\n",
       "    .dataframe thead th {\n",
       "        text-align: right;\n",
       "    }\n",
       "</style>\n",
       "<table border=\"1\" class=\"dataframe\">\n",
       "  <thead>\n",
       "    <tr style=\"text-align: right;\">\n",
       "      <th></th>\n",
       "      <th>title</th>\n",
       "      <th>desc</th>\n",
       "      <th>name</th>\n",
       "      <th>time</th>\n",
       "      <th>comment</th>\n",
       "    </tr>\n",
       "  </thead>\n",
       "  <tbody>\n",
       "    <tr>\n",
       "      <th>0</th>\n",
       "      <td>아이네 방송 밈 알려드림</td>\n",
       "      <td>20211030 아이네 밈 파헤치기! 아이네 방송 밈 알려드림  아이네 생방송: h...</td>\n",
       "      <td>Miyeon OvO</td>\n",
       "      <td>2021-11-15 11:52:24</td>\n",
       "      <td>난 이세돌에 그렇게까지 스며들지 않았다고 생각했는데 석탄빼고 다 아는건 도대체 무엇...</td>\n",
       "    </tr>\n",
       "    <tr>\n",
       "      <th>1</th>\n",
       "      <td>아이네 방송 밈 알려드림</td>\n",
       "      <td>20211030 아이네 밈 파헤치기! 아이네 방송 밈 알려드림  아이네 생방송: h...</td>\n",
       "      <td>Ahnung Habe</td>\n",
       "      <td>2021-11-15 11:49:37</td>\n",
       "      <td>짹짹 맛있어요</td>\n",
       "    </tr>\n",
       "    <tr>\n",
       "      <th>2</th>\n",
       "      <td>아이네 방송 밈 알려드림</td>\n",
       "      <td>20211030 아이네 밈 파헤치기! 아이네 방송 밈 알려드림  아이네 생방송: h...</td>\n",
       "      <td>시나럽</td>\n",
       "      <td>2021-11-15 11:39:28</td>\n",
       "      <td>새로운 참새는 언제나 환영이라구~</td>\n",
       "    </tr>\n",
       "    <tr>\n",
       "      <th>3</th>\n",
       "      <td>아이네 방송 밈 알려드림</td>\n",
       "      <td>20211030 아이네 밈 파헤치기! 아이네 방송 밈 알려드림  아이네 생방송: h...</td>\n",
       "      <td>정담은</td>\n",
       "      <td>2021-11-15 11:02:29</td>\n",
       "      <td>1:22 \"나를 버리기\"</td>\n",
       "    </tr>\n",
       "    <tr>\n",
       "      <th>4</th>\n",
       "      <td>아이네 방송 밈 알려드림</td>\n",
       "      <td>20211030 아이네 밈 파헤치기! 아이네 방송 밈 알려드림  아이네 생방송: h...</td>\n",
       "      <td>Dozer</td>\n",
       "      <td>2021-11-15 10:51:33</td>\n",
       "      <td>호윽시 2:18에 부디 커버한거 어디서 들을수있나요 ㅠㅠ</td>\n",
       "    </tr>\n",
       "  </tbody>\n",
       "</table>\n",
       "</div>"
      ],
      "text/plain": [
       "           title                                               desc  \\\n",
       "0  아이네 방송 밈 알려드림  20211030 아이네 밈 파헤치기! 아이네 방송 밈 알려드림  아이네 생방송: h...   \n",
       "1  아이네 방송 밈 알려드림  20211030 아이네 밈 파헤치기! 아이네 방송 밈 알려드림  아이네 생방송: h...   \n",
       "2  아이네 방송 밈 알려드림  20211030 아이네 밈 파헤치기! 아이네 방송 밈 알려드림  아이네 생방송: h...   \n",
       "3  아이네 방송 밈 알려드림  20211030 아이네 밈 파헤치기! 아이네 방송 밈 알려드림  아이네 생방송: h...   \n",
       "4  아이네 방송 밈 알려드림  20211030 아이네 밈 파헤치기! 아이네 방송 밈 알려드림  아이네 생방송: h...   \n",
       "\n",
       "          name                 time  \\\n",
       "0   Miyeon OvO  2021-11-15 11:52:24   \n",
       "1  Ahnung Habe  2021-11-15 11:49:37   \n",
       "2          시나럽  2021-11-15 11:39:28   \n",
       "3          정담은  2021-11-15 11:02:29   \n",
       "4        Dozer  2021-11-15 10:51:33   \n",
       "\n",
       "                                             comment  \n",
       "0  난 이세돌에 그렇게까지 스며들지 않았다고 생각했는데 석탄빼고 다 아는건 도대체 무엇...  \n",
       "1                                            짹짹 맛있어요  \n",
       "2                                 새로운 참새는 언제나 환영이라구~  \n",
       "3                                      1:22 \"나를 버리기\"  \n",
       "4                    호윽시 2:18에 부디 커버한거 어디서 들을수있나요 ㅠㅠ  "
      ]
     },
     "execution_count": 3,
     "metadata": {},
     "output_type": "execute_result"
    }
   ],
   "source": [
    "df = pd.read_excel(\"resource/ine_coment.xlsx\")\n",
    "df.head()"
   ]
  },
  {
   "cell_type": "code",
   "execution_count": 4,
   "id": "88da9b27",
   "metadata": {},
   "outputs": [
    {
     "data": {
      "text/html": [
       "<div>\n",
       "<style scoped>\n",
       "    .dataframe tbody tr th:only-of-type {\n",
       "        vertical-align: middle;\n",
       "    }\n",
       "\n",
       "    .dataframe tbody tr th {\n",
       "        vertical-align: top;\n",
       "    }\n",
       "\n",
       "    .dataframe thead th {\n",
       "        text-align: right;\n",
       "    }\n",
       "</style>\n",
       "<table border=\"1\" class=\"dataframe\">\n",
       "  <thead>\n",
       "    <tr style=\"text-align: right;\">\n",
       "      <th></th>\n",
       "      <th>title</th>\n",
       "      <th>desc</th>\n",
       "      <th>name</th>\n",
       "      <th>time</th>\n",
       "      <th>comment</th>\n",
       "    </tr>\n",
       "  </thead>\n",
       "  <tbody>\n",
       "    <tr>\n",
       "      <th>0</th>\n",
       "      <td>아이네 방송 밈 알려드림</td>\n",
       "      <td>20211030 아이네 밈 파헤치기! 아이네 방송 밈 알려드림  아이네 생방송: h...</td>\n",
       "      <td>Miyeon OvO</td>\n",
       "      <td>2021-11-15 11:52:24</td>\n",
       "      <td>난 이세돌에 그렇게까지 스며들지 않았다고 생각했다 석탄빼고 다 아는건 도대체 무엇</td>\n",
       "    </tr>\n",
       "    <tr>\n",
       "      <th>1</th>\n",
       "      <td>아이네 방송 밈 알려드림</td>\n",
       "      <td>20211030 아이네 밈 파헤치기! 아이네 방송 밈 알려드림  아이네 생방송: h...</td>\n",
       "      <td>Ahnung Habe</td>\n",
       "      <td>2021-11-15 11:49:37</td>\n",
       "      <td>짹짹 맛있어요</td>\n",
       "    </tr>\n",
       "    <tr>\n",
       "      <th>2</th>\n",
       "      <td>아이네 방송 밈 알려드림</td>\n",
       "      <td>20211030 아이네 밈 파헤치기! 아이네 방송 밈 알려드림  아이네 생방송: h...</td>\n",
       "      <td>시나럽</td>\n",
       "      <td>2021-11-15 11:39:28</td>\n",
       "      <td>새로운 참새는 언제나 환영이라구</td>\n",
       "    </tr>\n",
       "    <tr>\n",
       "      <th>3</th>\n",
       "      <td>아이네 방송 밈 알려드림</td>\n",
       "      <td>20211030 아이네 밈 파헤치기! 아이네 방송 밈 알려드림  아이네 생방송: h...</td>\n",
       "      <td>정담은</td>\n",
       "      <td>2021-11-15 11:02:29</td>\n",
       "      <td>나를 버리기</td>\n",
       "    </tr>\n",
       "    <tr>\n",
       "      <th>4</th>\n",
       "      <td>아이네 방송 밈 알려드림</td>\n",
       "      <td>20211030 아이네 밈 파헤치기! 아이네 방송 밈 알려드림  아이네 생방송: h...</td>\n",
       "      <td>Dozer</td>\n",
       "      <td>2021-11-15 10:51:33</td>\n",
       "      <td>호윽시 에 부디 커버한거 어디서 들을수있나요</td>\n",
       "    </tr>\n",
       "  </tbody>\n",
       "</table>\n",
       "</div>"
      ],
      "text/plain": [
       "           title                                               desc  \\\n",
       "0  아이네 방송 밈 알려드림  20211030 아이네 밈 파헤치기! 아이네 방송 밈 알려드림  아이네 생방송: h...   \n",
       "1  아이네 방송 밈 알려드림  20211030 아이네 밈 파헤치기! 아이네 방송 밈 알려드림  아이네 생방송: h...   \n",
       "2  아이네 방송 밈 알려드림  20211030 아이네 밈 파헤치기! 아이네 방송 밈 알려드림  아이네 생방송: h...   \n",
       "3  아이네 방송 밈 알려드림  20211030 아이네 밈 파헤치기! 아이네 방송 밈 알려드림  아이네 생방송: h...   \n",
       "4  아이네 방송 밈 알려드림  20211030 아이네 밈 파헤치기! 아이네 방송 밈 알려드림  아이네 생방송: h...   \n",
       "\n",
       "          name                 time  \\\n",
       "0   Miyeon OvO  2021-11-15 11:52:24   \n",
       "1  Ahnung Habe  2021-11-15 11:49:37   \n",
       "2          시나럽  2021-11-15 11:39:28   \n",
       "3          정담은  2021-11-15 11:02:29   \n",
       "4        Dozer  2021-11-15 10:51:33   \n",
       "\n",
       "                                         comment  \n",
       "0  난 이세돌에 그렇게까지 스며들지 않았다고 생각했다 석탄빼고 다 아는건 도대체 무엇  \n",
       "1                                        짹짹 맛있어요  \n",
       "2                              새로운 참새는 언제나 환영이라구  \n",
       "3                                         나를 버리기  \n",
       "4                       호윽시 에 부디 커버한거 어디서 들을수있나요  "
      ]
     },
     "execution_count": 4,
     "metadata": {},
     "output_type": "execute_result"
    }
   ],
   "source": [
    "def normalize(text):\n",
    "    text = text.replace(\"_x000D_\", \" \")\n",
    "    text = text.replace(\"\\n\", \" \")\n",
    "    text = text.replace(\"넴\", \"님\")\n",
    "    text = text.replace(\"넘\", \"님\")\n",
    "    text = text.replace(\"팅아\", \"킹아\")\n",
    "    text = text.replace(\"는데\", \"다\")\n",
    "    text = text.replace(\"아니네\", \"아이네\")\n",
    "    text = text.replace(\"님모\", \"너무\")\n",
    "    text = text.replace(\"해미네\", \"햄이네\")\n",
    "    text = re.sub(\"http[s]?://(?:[a-zA-Z]|[0-9]|[$\\-@\\.&+:/?=]|[!*\\(\\),]|(?:%[0-9a-fA-F][0-9a-fA-F]))+\", \"\", text)\n",
    "    text = re.sub(r'\\d+(:\\d+)+|[^ 가-힣0-9]', r' ', text)\n",
    "    text = repeat_normalize(text, 3)\n",
    "    text = re.sub(r'(.{3,}?)\\1+', r'\\1', text)\n",
    "    return text.strip()\n",
    "\n",
    "df = df[df['name'] != '아이네 INE']\n",
    "df['comment'] = df['comment'].apply(normalize)\n",
    "df = df[df['comment'].str.len() > 1]\n",
    "df.head(5)"
   ]
  },
  {
   "cell_type": "code",
   "execution_count": 5,
   "id": "a577a5e2",
   "metadata": {},
   "outputs": [],
   "source": [
    "def spell_check(text):\n",
    "#     try:\n",
    "#         text = spell_checker.check(text).checked\n",
    "#     except:\n",
    "#         print(text)\n",
    "    text = spell_checker.check(text).checked\n",
    "    \n",
    "    text = re.sub(\"둘 기|두 기\", '둘기', text)\n",
    "    text = re.sub(\"아키 데이터\", '아키네이터', text)\n",
    "    text = re.sub(\"아 ?이 ?네\", \"아이네\", text)\n",
    "    text = re.sub(\"징 ?버 ?거|징벌 거\", \"징버거\", text)\n",
    "    text = re.sub(\"릴 ?파|릴이\", \"릴파\", text)\n",
    "    text = re.sub(\"주 ?르 ?르\", \"주르르\", text)\n",
    "    text = re.sub(\"고 ?세 ?구\", \"고세구\", text)\n",
    "    text = re.sub(\"비 ?챤|비참|비천\", \"비챤\", text)\n",
    "    text = re.sub(\"글 라모스|글 ?라 ?도 ?스\", \"글라도스\", text)\n",
    "    text = re.sub(\"준내\", \"쥰내\", text)\n",
    "    text = re.sub(\"나그네인 저\", \"느그레인저\", text)\n",
    "    text = re.sub(\"센 ?세 ?이\", \"겐세이\", text)\n",
    "    text = re.sub(\"어멍 어스\", \"어몽어스\", text)\n",
    "    text = re.sub(\"레 ?게 ?노\", \"레게노\", text)\n",
    "    text = re.sub(\"셋소 마루\", \"셋쇼마루\", text)\n",
    "    text = re.sub(\"네 절\", \"뇌절\", text)\n",
    "    text = re.sub(\"깨우\", \"깨부\", text)\n",
    "    text = re.sub(\"몰리겠네\", \"몰루겠네\", text)\n",
    "    text = re.sub(\"존 번\", \"존버\", text)\n",
    "    \n",
    "    return text"
   ]
  },
  {
   "cell_type": "code",
   "execution_count": 6,
   "id": "cc6d7667",
   "metadata": {},
   "outputs": [
    {
     "name": "stderr",
     "output_type": "stream",
     "text": [
      "100%|███████████████████████████████████████████████████████████████████████████████| 8418/8418 [05:11<00:00, 27.07it/s]\n",
      "100%|█████████████████████████████████████████████████████████████████████████████████████| 1/1 [00:00<00:00, 82.84it/s]"
     ]
    },
    {
     "name": "stdout",
     "output_type": "stream",
     "text": [
      "1\n",
      "0\n"
     ]
    },
    {
     "name": "stderr",
     "output_type": "stream",
     "text": [
      "\n"
     ]
    },
    {
     "data": {
      "text/html": [
       "<div>\n",
       "<style scoped>\n",
       "    .dataframe tbody tr th:only-of-type {\n",
       "        vertical-align: middle;\n",
       "    }\n",
       "\n",
       "    .dataframe tbody tr th {\n",
       "        vertical-align: top;\n",
       "    }\n",
       "\n",
       "    .dataframe thead th {\n",
       "        text-align: right;\n",
       "    }\n",
       "</style>\n",
       "<table border=\"1\" class=\"dataframe\">\n",
       "  <thead>\n",
       "    <tr style=\"text-align: right;\">\n",
       "      <th></th>\n",
       "      <th>title</th>\n",
       "      <th>desc</th>\n",
       "      <th>name</th>\n",
       "      <th>time</th>\n",
       "      <th>comment</th>\n",
       "    </tr>\n",
       "  </thead>\n",
       "  <tbody>\n",
       "    <tr>\n",
       "      <th>0</th>\n",
       "      <td>아이네 방송 밈 알려드림</td>\n",
       "      <td>20211030 아이네 밈 파헤치기! 아이네 방송 밈 알려드림  아이네 생방송: h...</td>\n",
       "      <td>Miyeon OvO</td>\n",
       "      <td>2021-11-15 11:52:24</td>\n",
       "      <td>난 이세돌에 그렇게까지 스며들지 않았다고 생각했다 석탄 빼고 다 아는 건 도대체 무엇</td>\n",
       "    </tr>\n",
       "    <tr>\n",
       "      <th>1</th>\n",
       "      <td>아이네 방송 밈 알려드림</td>\n",
       "      <td>20211030 아이네 밈 파헤치기! 아이네 방송 밈 알려드림  아이네 생방송: h...</td>\n",
       "      <td>Ahnung Habe</td>\n",
       "      <td>2021-11-15 11:49:37</td>\n",
       "      <td>짹짹 맛있어요</td>\n",
       "    </tr>\n",
       "    <tr>\n",
       "      <th>2</th>\n",
       "      <td>아이네 방송 밈 알려드림</td>\n",
       "      <td>20211030 아이네 밈 파헤치기! 아이네 방송 밈 알려드림  아이네 생방송: h...</td>\n",
       "      <td>시나럽</td>\n",
       "      <td>2021-11-15 11:39:28</td>\n",
       "      <td>새로운 참새는 언제나 환영이라고</td>\n",
       "    </tr>\n",
       "    <tr>\n",
       "      <th>3</th>\n",
       "      <td>아이네 방송 밈 알려드림</td>\n",
       "      <td>20211030 아이네 밈 파헤치기! 아이네 방송 밈 알려드림  아이네 생방송: h...</td>\n",
       "      <td>정담은</td>\n",
       "      <td>2021-11-15 11:02:29</td>\n",
       "      <td>나를 버리기</td>\n",
       "    </tr>\n",
       "    <tr>\n",
       "      <th>4</th>\n",
       "      <td>아이네 방송 밈 알려드림</td>\n",
       "      <td>20211030 아이네 밈 파헤치기! 아이네 방송 밈 알려드림  아이네 생방송: h...</td>\n",
       "      <td>Dozer</td>\n",
       "      <td>2021-11-15 10:51:33</td>\n",
       "      <td>호윽시 에 부디 커버한 거 어디서 들을 수 있나요</td>\n",
       "    </tr>\n",
       "  </tbody>\n",
       "</table>\n",
       "</div>"
      ],
      "text/plain": [
       "           title                                               desc  \\\n",
       "0  아이네 방송 밈 알려드림  20211030 아이네 밈 파헤치기! 아이네 방송 밈 알려드림  아이네 생방송: h...   \n",
       "1  아이네 방송 밈 알려드림  20211030 아이네 밈 파헤치기! 아이네 방송 밈 알려드림  아이네 생방송: h...   \n",
       "2  아이네 방송 밈 알려드림  20211030 아이네 밈 파헤치기! 아이네 방송 밈 알려드림  아이네 생방송: h...   \n",
       "3  아이네 방송 밈 알려드림  20211030 아이네 밈 파헤치기! 아이네 방송 밈 알려드림  아이네 생방송: h...   \n",
       "4  아이네 방송 밈 알려드림  20211030 아이네 밈 파헤치기! 아이네 방송 밈 알려드림  아이네 생방송: h...   \n",
       "\n",
       "          name                 time  \\\n",
       "0   Miyeon OvO  2021-11-15 11:52:24   \n",
       "1  Ahnung Habe  2021-11-15 11:49:37   \n",
       "2          시나럽  2021-11-15 11:39:28   \n",
       "3          정담은  2021-11-15 11:02:29   \n",
       "4        Dozer  2021-11-15 10:51:33   \n",
       "\n",
       "                                           comment  \n",
       "0  난 이세돌에 그렇게까지 스며들지 않았다고 생각했다 석탄 빼고 다 아는 건 도대체 무엇  \n",
       "1                                          짹짹 맛있어요  \n",
       "2                                새로운 참새는 언제나 환영이라고  \n",
       "3                                           나를 버리기  \n",
       "4                      호윽시 에 부디 커버한 거 어디서 들을 수 있나요  "
      ]
     },
     "execution_count": 6,
     "metadata": {},
     "output_type": "execute_result"
    }
   ],
   "source": [
    "idxes = [*range(len(df))]\n",
    "error_idxes = []\n",
    "\n",
    "while idxes != []:\n",
    "    for i in tqdm(idxes):\n",
    "        try:\n",
    "            df.iloc[i, -1] = spell_check(df.iloc[i, -1])\n",
    "        except:\n",
    "            error_idxes.append(i)\n",
    "    \n",
    "    idxes = error_idxes\n",
    "    error_idxes = []\n",
    "    \n",
    "    print(len(idxes))\n",
    "\n",
    "df = df[df.comment != \"\"]\n",
    "\n",
    "df.head()"
   ]
  },
  {
   "cell_type": "code",
   "execution_count": 7,
   "id": "80db18f3",
   "metadata": {},
   "outputs": [],
   "source": [
    "pos_tagged_corpus = pos_text(df.comment, api)\n",
    "df['processed_comment'] = stemming_text(pos_tagged_corpus)"
   ]
  },
  {
   "cell_type": "code",
   "execution_count": 8,
   "id": "50861390",
   "metadata": {},
   "outputs": [
    {
     "data": {
      "text/html": [
       "<div>\n",
       "<style scoped>\n",
       "    .dataframe tbody tr th:only-of-type {\n",
       "        vertical-align: middle;\n",
       "    }\n",
       "\n",
       "    .dataframe tbody tr th {\n",
       "        vertical-align: top;\n",
       "    }\n",
       "\n",
       "    .dataframe thead th {\n",
       "        text-align: right;\n",
       "    }\n",
       "</style>\n",
       "<table border=\"1\" class=\"dataframe\">\n",
       "  <thead>\n",
       "    <tr style=\"text-align: right;\">\n",
       "      <th></th>\n",
       "      <th>title</th>\n",
       "      <th>desc</th>\n",
       "      <th>name</th>\n",
       "      <th>time</th>\n",
       "      <th>comment</th>\n",
       "      <th>processed_comment</th>\n",
       "    </tr>\n",
       "  </thead>\n",
       "  <tbody>\n",
       "    <tr>\n",
       "      <th>0</th>\n",
       "      <td>아이네 방송 밈 알려드림</td>\n",
       "      <td>20211030 아이네 밈 파헤치기! 아이네 방송 밈 알려드림  아이네 생방송: h...</td>\n",
       "      <td>Miyeon OvO</td>\n",
       "      <td>2021-11-15 11:52:24</td>\n",
       "      <td>난 이세돌에 그렇게까지 스며들지 않았다고 생각했다 석탄 빼고 다 아는 건 도대체 무엇</td>\n",
       "      <td>이세돌 그렇 스며들다 않다 생각하다 석탄 빼다 다 알다 도대체</td>\n",
       "    </tr>\n",
       "    <tr>\n",
       "      <th>1</th>\n",
       "      <td>아이네 방송 밈 알려드림</td>\n",
       "      <td>20211030 아이네 밈 파헤치기! 아이네 방송 밈 알려드림  아이네 생방송: h...</td>\n",
       "      <td>Ahnung Habe</td>\n",
       "      <td>2021-11-15 11:49:37</td>\n",
       "      <td>짹짹 맛있어요</td>\n",
       "      <td>짹짹 맛있</td>\n",
       "    </tr>\n",
       "    <tr>\n",
       "      <th>2</th>\n",
       "      <td>아이네 방송 밈 알려드림</td>\n",
       "      <td>20211030 아이네 밈 파헤치기! 아이네 방송 밈 알려드림  아이네 생방송: h...</td>\n",
       "      <td>시나럽</td>\n",
       "      <td>2021-11-15 11:39:28</td>\n",
       "      <td>새로운 참새는 언제나 환영이라고</td>\n",
       "      <td>새롭 참새 언제나 환영</td>\n",
       "    </tr>\n",
       "    <tr>\n",
       "      <th>3</th>\n",
       "      <td>아이네 방송 밈 알려드림</td>\n",
       "      <td>20211030 아이네 밈 파헤치기! 아이네 방송 밈 알려드림  아이네 생방송: h...</td>\n",
       "      <td>정담은</td>\n",
       "      <td>2021-11-15 11:02:29</td>\n",
       "      <td>나를 버리기</td>\n",
       "      <td>버리다</td>\n",
       "    </tr>\n",
       "    <tr>\n",
       "      <th>4</th>\n",
       "      <td>아이네 방송 밈 알려드림</td>\n",
       "      <td>20211030 아이네 밈 파헤치기! 아이네 방송 밈 알려드림  아이네 생방송: h...</td>\n",
       "      <td>Dozer</td>\n",
       "      <td>2021-11-15 10:51:33</td>\n",
       "      <td>호윽시 에 부디 커버한 거 어디서 들을 수 있나요</td>\n",
       "      <td>호윽시 부디 커버 하다 듣다 있다</td>\n",
       "    </tr>\n",
       "  </tbody>\n",
       "</table>\n",
       "</div>"
      ],
      "text/plain": [
       "           title                                               desc  \\\n",
       "0  아이네 방송 밈 알려드림  20211030 아이네 밈 파헤치기! 아이네 방송 밈 알려드림  아이네 생방송: h...   \n",
       "1  아이네 방송 밈 알려드림  20211030 아이네 밈 파헤치기! 아이네 방송 밈 알려드림  아이네 생방송: h...   \n",
       "2  아이네 방송 밈 알려드림  20211030 아이네 밈 파헤치기! 아이네 방송 밈 알려드림  아이네 생방송: h...   \n",
       "3  아이네 방송 밈 알려드림  20211030 아이네 밈 파헤치기! 아이네 방송 밈 알려드림  아이네 생방송: h...   \n",
       "4  아이네 방송 밈 알려드림  20211030 아이네 밈 파헤치기! 아이네 방송 밈 알려드림  아이네 생방송: h...   \n",
       "\n",
       "          name                 time  \\\n",
       "0   Miyeon OvO  2021-11-15 11:52:24   \n",
       "1  Ahnung Habe  2021-11-15 11:49:37   \n",
       "2          시나럽  2021-11-15 11:39:28   \n",
       "3          정담은  2021-11-15 11:02:29   \n",
       "4        Dozer  2021-11-15 10:51:33   \n",
       "\n",
       "                                           comment  \\\n",
       "0  난 이세돌에 그렇게까지 스며들지 않았다고 생각했다 석탄 빼고 다 아는 건 도대체 무엇   \n",
       "1                                          짹짹 맛있어요   \n",
       "2                                새로운 참새는 언제나 환영이라고   \n",
       "3                                           나를 버리기   \n",
       "4                      호윽시 에 부디 커버한 거 어디서 들을 수 있나요   \n",
       "\n",
       "                    processed_comment  \n",
       "0  이세돌 그렇 스며들다 않다 생각하다 석탄 빼다 다 알다 도대체  \n",
       "1                               짹짹 맛있  \n",
       "2                        새롭 참새 언제나 환영  \n",
       "3                                 버리다  \n",
       "4                  호윽시 부디 커버 하다 듣다 있다  "
      ]
     },
     "execution_count": 8,
     "metadata": {},
     "output_type": "execute_result"
    }
   ],
   "source": [
    "df['processed_comment'] = df['processed_comment'].apply(\n",
    "    lambda x: ' '.join(\n",
    "        [\n",
    "            w.split('/')[0] \n",
    "            for w in x.split() \n",
    "            if w.split('/')[1] in ['NNG', 'NNP', 'VV', 'VA', 'MAG', 'MAJ']\n",
    "        ]\n",
    "    )\n",
    ")\n",
    "df = df[df['processed_comment'] != \"\"]\n",
    "df.head()"
   ]
  },
  {
   "cell_type": "code",
   "execution_count": 9,
   "id": "eff9cd50",
   "metadata": {},
   "outputs": [],
   "source": [
    "def normalize_word(text):\n",
    "    result = []\n",
    "    \n",
    "    for word in text.split():\n",
    "        if word.startswith(\"좋\"):\n",
    "            word = \"좋다\"\n",
    "        elif word.startswith(\"싫\"):\n",
    "            word = \"싫다\"\n",
    "        elif word in ['귀엽', '귀다', '귀여우다', '귀여워하다', '귀이다', '귀여웤다', '귀엽뽀짝하다', '귀엽잖', '귀엽넼다', '귀하', '귀여다', '귀엽네', '귀엽땨다', '귀', '귀염', '귀여', '귀여우시다']:\n",
    "            word = \"귀엽다\"\n",
    "        elif word == \"없\":\n",
    "            word = \"없다\"\n",
    "        elif word in ['진짜웃기넼다', '진짴', '진자', '진', '진짜하다']:\n",
    "            word = \"진짜\"\n",
    "        elif \"노래뱅\" in word:\n",
    "            word = \"노래뱅\"\n",
    "        elif word.startswith(\"노래\"):\n",
    "            word = \"노래\" if word == \"노래하다\" else word\n",
    "        elif \"아이네\" in word:\n",
    "            word = \"아이네\"\n",
    "        elif \"햄이네\" in word:\n",
    "            word = \"햄이네\"\n",
    "        elif word in ['와꿋', \"와꾸텽\", \"와꾸텽하다\", \"왁구텽\", \"왁굳텽\", \"왁구텽다\"]:\n",
    "            word = \"왁굳형\"\n",
    "        elif \"비둘기\" in word:\n",
    "            word = \"비둘기\"\n",
    "        \n",
    "        result.append(word)\n",
    "    \n",
    "    return \" \".join(result)"
   ]
  },
  {
   "cell_type": "code",
   "execution_count": 10,
   "id": "6dcbe347",
   "metadata": {},
   "outputs": [
    {
     "data": {
      "text/html": [
       "<div>\n",
       "<style scoped>\n",
       "    .dataframe tbody tr th:only-of-type {\n",
       "        vertical-align: middle;\n",
       "    }\n",
       "\n",
       "    .dataframe tbody tr th {\n",
       "        vertical-align: top;\n",
       "    }\n",
       "\n",
       "    .dataframe thead th {\n",
       "        text-align: right;\n",
       "    }\n",
       "</style>\n",
       "<table border=\"1\" class=\"dataframe\">\n",
       "  <thead>\n",
       "    <tr style=\"text-align: right;\">\n",
       "      <th></th>\n",
       "      <th>title</th>\n",
       "      <th>desc</th>\n",
       "      <th>name</th>\n",
       "      <th>time</th>\n",
       "      <th>comment</th>\n",
       "      <th>processed_comment</th>\n",
       "    </tr>\n",
       "  </thead>\n",
       "  <tbody>\n",
       "    <tr>\n",
       "      <th>0</th>\n",
       "      <td>아이네 방송 밈 알려드림</td>\n",
       "      <td>20211030 아이네 밈 파헤치기! 아이네 방송 밈 알려드림  아이네 생방송: h...</td>\n",
       "      <td>Miyeon OvO</td>\n",
       "      <td>2021-11-15 11:52:24</td>\n",
       "      <td>난 이세돌에 그렇게까지 스며들지 않았다고 생각했다 석탄 빼고 다 아는 건 도대체 무엇</td>\n",
       "      <td>이세돌 그렇 스며들다 않다 생각하다 석탄 빼다 다 알다 도대체</td>\n",
       "    </tr>\n",
       "    <tr>\n",
       "      <th>1</th>\n",
       "      <td>아이네 방송 밈 알려드림</td>\n",
       "      <td>20211030 아이네 밈 파헤치기! 아이네 방송 밈 알려드림  아이네 생방송: h...</td>\n",
       "      <td>Ahnung Habe</td>\n",
       "      <td>2021-11-15 11:49:37</td>\n",
       "      <td>짹짹 맛있어요</td>\n",
       "      <td>짹짹 맛있</td>\n",
       "    </tr>\n",
       "    <tr>\n",
       "      <th>2</th>\n",
       "      <td>아이네 방송 밈 알려드림</td>\n",
       "      <td>20211030 아이네 밈 파헤치기! 아이네 방송 밈 알려드림  아이네 생방송: h...</td>\n",
       "      <td>시나럽</td>\n",
       "      <td>2021-11-15 11:39:28</td>\n",
       "      <td>새로운 참새는 언제나 환영이라고</td>\n",
       "      <td>새롭 참새 언제나 환영</td>\n",
       "    </tr>\n",
       "    <tr>\n",
       "      <th>3</th>\n",
       "      <td>아이네 방송 밈 알려드림</td>\n",
       "      <td>20211030 아이네 밈 파헤치기! 아이네 방송 밈 알려드림  아이네 생방송: h...</td>\n",
       "      <td>정담은</td>\n",
       "      <td>2021-11-15 11:02:29</td>\n",
       "      <td>나를 버리기</td>\n",
       "      <td>버리다</td>\n",
       "    </tr>\n",
       "    <tr>\n",
       "      <th>4</th>\n",
       "      <td>아이네 방송 밈 알려드림</td>\n",
       "      <td>20211030 아이네 밈 파헤치기! 아이네 방송 밈 알려드림  아이네 생방송: h...</td>\n",
       "      <td>Dozer</td>\n",
       "      <td>2021-11-15 10:51:33</td>\n",
       "      <td>호윽시 에 부디 커버한 거 어디서 들을 수 있나요</td>\n",
       "      <td>호윽시 부디 커버 하다 듣다 있다</td>\n",
       "    </tr>\n",
       "  </tbody>\n",
       "</table>\n",
       "</div>"
      ],
      "text/plain": [
       "           title                                               desc  \\\n",
       "0  아이네 방송 밈 알려드림  20211030 아이네 밈 파헤치기! 아이네 방송 밈 알려드림  아이네 생방송: h...   \n",
       "1  아이네 방송 밈 알려드림  20211030 아이네 밈 파헤치기! 아이네 방송 밈 알려드림  아이네 생방송: h...   \n",
       "2  아이네 방송 밈 알려드림  20211030 아이네 밈 파헤치기! 아이네 방송 밈 알려드림  아이네 생방송: h...   \n",
       "3  아이네 방송 밈 알려드림  20211030 아이네 밈 파헤치기! 아이네 방송 밈 알려드림  아이네 생방송: h...   \n",
       "4  아이네 방송 밈 알려드림  20211030 아이네 밈 파헤치기! 아이네 방송 밈 알려드림  아이네 생방송: h...   \n",
       "\n",
       "          name                 time  \\\n",
       "0   Miyeon OvO  2021-11-15 11:52:24   \n",
       "1  Ahnung Habe  2021-11-15 11:49:37   \n",
       "2          시나럽  2021-11-15 11:39:28   \n",
       "3          정담은  2021-11-15 11:02:29   \n",
       "4        Dozer  2021-11-15 10:51:33   \n",
       "\n",
       "                                           comment  \\\n",
       "0  난 이세돌에 그렇게까지 스며들지 않았다고 생각했다 석탄 빼고 다 아는 건 도대체 무엇   \n",
       "1                                          짹짹 맛있어요   \n",
       "2                                새로운 참새는 언제나 환영이라고   \n",
       "3                                           나를 버리기   \n",
       "4                      호윽시 에 부디 커버한 거 어디서 들을 수 있나요   \n",
       "\n",
       "                    processed_comment  \n",
       "0  이세돌 그렇 스며들다 않다 생각하다 석탄 빼다 다 알다 도대체  \n",
       "1                               짹짹 맛있  \n",
       "2                        새롭 참새 언제나 환영  \n",
       "3                                 버리다  \n",
       "4                  호윽시 부디 커버 하다 듣다 있다  "
      ]
     },
     "execution_count": 10,
     "metadata": {},
     "output_type": "execute_result"
    }
   ],
   "source": [
    "df['processed_comment'] = df['processed_comment'].apply(normalize_word)\n",
    "df = df[df['processed_comment'] != \"\"]\n",
    "df.head()"
   ]
  },
  {
   "cell_type": "code",
   "execution_count": 11,
   "id": "8d304d48",
   "metadata": {},
   "outputs": [],
   "source": [
    "df.to_excel(\"resource/preprecessed_ine_coment.xlsx\", index=None)"
   ]
  },
  {
   "cell_type": "code",
   "execution_count": 12,
   "id": "39f3fcb7",
   "metadata": {
    "ExecuteTime": {
     "end_time": "2021-11-12T15:27:34.300498Z",
     "start_time": "2021-11-12T15:27:32.880237Z"
    }
   },
   "outputs": [],
   "source": [
    "df = pd.read_excel(\"resource/preprecessed_ine_coment.xlsx\")"
   ]
  },
  {
   "cell_type": "markdown",
   "id": "e663f133",
   "metadata": {
    "heading_collapsed": true
   },
   "source": [
    "# draw wordcloud"
   ]
  },
  {
   "cell_type": "code",
   "execution_count": 13,
   "id": "c6ce2b9c",
   "metadata": {
    "ExecuteTime": {
     "end_time": "2021-11-12T15:27:38.132156Z",
     "start_time": "2021-11-12T15:27:37.546837Z"
    },
    "hidden": true
   },
   "outputs": [],
   "source": [
    "all_tokens = sum(df['processed_comment'].apply(lambda x: x.split()), [])"
   ]
  },
  {
   "cell_type": "code",
   "execution_count": 14,
   "id": "6c4cccdf",
   "metadata": {
    "ExecuteTime": {
     "end_time": "2021-11-12T15:27:38.209100Z",
     "start_time": "2021-11-12T15:27:38.195138Z"
    },
    "hidden": true
   },
   "outputs": [
    {
     "data": {
      "text/plain": [
       "[('아이네', 1533),\n",
       " ('너무', 1150),\n",
       " ('좋다', 1044),\n",
       " ('보다', 942),\n",
       " ('하다', 829),\n",
       " ('귀엽다', 652),\n",
       " ('진짜', 627),\n",
       " ('있다', 471),\n",
       " ('킹아', 428),\n",
       " ('영상', 421)]"
      ]
     },
     "execution_count": 14,
     "metadata": {},
     "output_type": "execute_result"
    }
   ],
   "source": [
    "counter = Counter(all_tokens)\n",
    "\n",
    "counter.most_common(10)"
   ]
  },
  {
   "cell_type": "code",
   "execution_count": 15,
   "id": "1122d82d",
   "metadata": {
    "ExecuteTime": {
     "end_time": "2021-11-12T15:27:39.614882Z",
     "start_time": "2021-11-12T15:27:38.866487Z"
    },
    "hidden": true
   },
   "outputs": [
    {
     "data": {
      "image/png": "[encoded data removed]",
      "text/plain": [
       "<Figure size 720x576 with 1 Axes>"
      ]
     },
     "metadata": {
      "needs_background": "light"
     },
     "output_type": "display_data"
    }
   ],
   "source": [
    "bgimg = Image.open('resource/wakdoo.png')\n",
    "mask = np.array(bgimg)\n",
    "\n",
    "wc = WordCloud(font_path=\"resource/D2Coding.ttf\",background_color=\"white\", max_font_size=200, mask=mask)\n",
    "cloud = wc.generate_from_frequencies(dict(counter.most_common(80)))\n",
    "cloud.to_file(\"resource/wordcloud.png\")\n",
    "\n",
    "plt.figure(figsize=(10, 8))\n",
    "plt.axis('off')\n",
    "plt.imshow(cloud)\n",
    "plt.show()"
   ]
  },
  {
   "cell_type": "markdown",
   "id": "cb74dab1",
   "metadata": {
    "heading_collapsed": true
   },
   "source": [
    "# tokenizer"
   ]
  },
  {
   "cell_type": "code",
   "execution_count": 16,
   "id": "7e2da3d4",
   "metadata": {
    "ExecuteTime": {
     "end_time": "2021-11-12T15:27:44.312397Z",
     "start_time": "2021-11-12T15:27:44.295802Z"
    },
    "hidden": true
   },
   "outputs": [],
   "source": [
    "tokens = [\"[PAD]\", \"[UNK]\"] + [t[0] for t in counter.most_common(len(counter))]\n",
    "\n",
    "save_pickle({k: i for i, k in enumerate(tokens)}, \"resource/tokenizer.pkl\")"
   ]
  },
  {
   "cell_type": "code",
   "execution_count": 17,
   "id": "c94ba519",
   "metadata": {
    "ExecuteTime": {
     "end_time": "2021-11-12T15:27:45.001733Z",
     "start_time": "2021-11-12T15:27:44.968511Z"
    },
    "hidden": true
   },
   "outputs": [],
   "source": [
    "tokenizer = Tokenizer(\"resource/tokenizer.pkl\")"
   ]
  },
  {
   "cell_type": "code",
   "execution_count": 18,
   "id": "bbb6e990",
   "metadata": {
    "ExecuteTime": {
     "end_time": "2021-11-12T15:27:45.628130Z",
     "start_time": "2021-11-12T15:27:45.616422Z"
    },
    "hidden": true
   },
   "outputs": [
    {
     "name": "stdout",
     "output_type": "stream",
     "text": [
      "이세돌 그렇 스며들다 않다 생각하다 석탄 빼다 다 알다 도대체\n",
      "[51, 73, 2109, 60, 254, 794, 795, 20, 27, 978]\n"
     ]
    }
   ],
   "source": [
    "sample_text = df.iloc[0, -1]\n",
    "\n",
    "print(sample_text)\n",
    "print(tokenizer.encode(sample_text))"
   ]
  },
  {
   "cell_type": "markdown",
   "id": "7cc7b60b",
   "metadata": {},
   "source": [
    "# word 2 Vec"
   ]
  },
  {
   "cell_type": "markdown",
   "id": "bf91aa53",
   "metadata": {
    "heading_collapsed": true
   },
   "source": [
    "## data setting"
   ]
  },
  {
   "cell_type": "code",
   "execution_count": 19,
   "id": "ce09e507",
   "metadata": {
    "ExecuteTime": {
     "end_time": "2021-11-12T15:27:50.753564Z",
     "start_time": "2021-11-12T15:27:50.739602Z"
    },
    "hidden": true
   },
   "outputs": [],
   "source": [
    "targets, contexts, labels = [], [], []\n",
    "\n",
    "sampling_table = tf.keras.preprocessing.sequence.make_sampling_table(tokenizer.vocab_size)"
   ]
  },
  {
   "cell_type": "code",
   "execution_count": 20,
   "id": "cb75a51c",
   "metadata": {
    "ExecuteTime": {
     "end_time": "2021-11-12T15:27:57.154937Z",
     "start_time": "2021-11-12T15:27:51.410891Z"
    },
    "hidden": true
   },
   "outputs": [
    {
     "name": "stderr",
     "output_type": "stream",
     "text": [
      "100%|█████████████████████████████████████████████████████████████████████████████| 8287/8287 [00:07<00:00, 1074.49it/s]\n"
     ]
    }
   ],
   "source": [
    "for text in tqdm(df.processed_comment):\n",
    "    sequence = tokenizer.encode(text)\n",
    "    if len(sequence) < cfg['num_negative_samples'] * 2 + 1:\n",
    "        continue\n",
    "    \n",
    "    positive_skip_grams, _ = tf.keras.preprocessing.sequence.skipgrams(\n",
    "        sequence,\n",
    "        vocabulary_size=tokenizer.vocab_size,\n",
    "        sampling_table=sampling_table,\n",
    "        window_size=cfg['window_size'],\n",
    "        negative_samples=0\n",
    "    )\n",
    "\n",
    "    for target_word, context_word in positive_skip_grams:\n",
    "        context_class = tf.expand_dims(tf.constant([context_word], dtype=\"int64\"), 1)\n",
    "        negative_sampling_candidates, _, _ = tf.random.log_uniform_candidate_sampler(\n",
    "            true_classes=context_class,\n",
    "            num_true=1,\n",
    "            num_sampled=cfg['num_negative_samples'],\n",
    "            unique=True,\n",
    "            range_max=tokenizer.vocab_size,\n",
    "            seed=cfg['random_seed'],\n",
    "            name=\"negative_sampling\"\n",
    "        )\n",
    "\n",
    "        negative_sampling_candidates = tf.expand_dims(negative_sampling_candidates, 1)\n",
    "\n",
    "        context = tf.concat([context_class, negative_sampling_candidates], 0)\n",
    "        label = tf.constant([1] + [0] * cfg['num_negative_samples'], dtype=\"int64\")\n",
    "\n",
    "        targets.append(target_word)\n",
    "        contexts.append(context)\n",
    "        labels.append(label)"
   ]
  },
  {
   "cell_type": "code",
   "execution_count": 21,
   "id": "826c17cc",
   "metadata": {
    "ExecuteTime": {
     "end_time": "2021-11-12T15:28:05.090298Z",
     "start_time": "2021-11-12T15:28:04.856742Z"
    },
    "hidden": true
   },
   "outputs": [
    {
     "data": {
      "text/plain": [
       "((12716,), (12716, 5), (12716, 5))"
      ]
     },
     "execution_count": 21,
     "metadata": {},
     "output_type": "execute_result"
    }
   ],
   "source": [
    "targets = np.array(targets)\n",
    "contexts = np.array(contexts)[:,:,0]\n",
    "labels = np.array(labels)\n",
    "\n",
    "targets.shape, contexts.shape, labels.shape"
   ]
  },
  {
   "cell_type": "code",
   "execution_count": 22,
   "id": "d7f35060",
   "metadata": {
    "ExecuteTime": {
     "end_time": "2021-11-12T15:28:05.229408Z",
     "start_time": "2021-11-12T15:28:05.215539Z"
    },
    "hidden": true
   },
   "outputs": [
    {
     "name": "stdout",
     "output_type": "stream",
     "text": [
      "<BatchDataset shapes: (((64,), (64, 5)), (64, 5)), types: ((tf.int64, tf.int64), tf.int64)> 198\n"
     ]
    }
   ],
   "source": [
    "BUFFER_SIZE = 10000\n",
    "\n",
    "dataset = tf.data.Dataset.from_tensor_slices(((targets, contexts), labels))\n",
    "dataset = dataset.shuffle(BUFFER_SIZE).batch(cfg['batch_size'], drop_remainder=True)\n",
    "\n",
    "print(dataset, len(dataset))"
   ]
  },
  {
   "cell_type": "markdown",
   "id": "a398d494",
   "metadata": {},
   "source": [
    "## model define"
   ]
  },
  {
   "cell_type": "code",
   "execution_count": 23,
   "id": "607bd237",
   "metadata": {
    "ExecuteTime": {
     "end_time": "2021-11-12T16:32:37.793902Z",
     "start_time": "2021-11-12T16:32:37.780927Z"
    }
   },
   "outputs": [],
   "source": [
    "class Word2Vec(tf.keras.Model):\n",
    "    def __init__(self, vocab_size, embedding_size):\n",
    "        super(Word2Vec, self).__init__()\n",
    "        \n",
    "        self.vocab_size = vocab_size\n",
    "        self.embedding_size = embedding_size\n",
    "        \n",
    "#         self.embedding = tf.keras.layers.Embedding(\n",
    "#             vocab_size,\n",
    "#             embedding_size,\n",
    "#         )\n",
    "\n",
    "        self.target_embedding = tf.keras.layers.Embedding(\n",
    "            vocab_size,\n",
    "            embedding_size,\n",
    "        )\n",
    "\n",
    "        self.context_embedding = tf.keras.layers.Embedding(\n",
    "            vocab_size,\n",
    "            embedding_size,\n",
    "        )\n",
    "\n",
    "    def call(self, pair):\n",
    "        target, context = pair\n",
    "        \n",
    "        if len(target.shape) == 2:\n",
    "            target = tf.squeeze(target, axis=1)\n",
    "\n",
    "#         word_emb = self.embedding(target)\n",
    "#         context_emb = self.embedding(context)\n",
    "        word_emb = self.target_embedding(target)\n",
    "        context_emb = self.context_embedding(context)\n",
    "        output = tf.einsum('be,bce->bc', word_emb, context_emb)\n",
    "\n",
    "        return output\n",
    "\n",
    "    def get_config(self):\n",
    "        return {\n",
    "            \"vocab_size\": self.vocab_size,\n",
    "            \"embedding_size\": self.embedding_size,\n",
    "        }"
   ]
  },
  {
   "cell_type": "code",
   "execution_count": 33,
   "id": "e36690c1",
   "metadata": {
    "ExecuteTime": {
     "end_time": "2021-11-12T16:32:40.020288Z",
     "start_time": "2021-11-12T16:32:39.996731Z"
    }
   },
   "outputs": [],
   "source": [
    "word2vec = Word2Vec(tokenizer.vocab_size, cfg['embedding_size'])\n",
    "word2vec.compile(\n",
    "    optimizer='adam',\n",
    "    loss=tf.keras.losses.CategoricalCrossentropy(from_logits=True),\n",
    "    metrics=['accuracy']\n",
    ")"
   ]
  },
  {
   "cell_type": "markdown",
   "id": "f972533d",
   "metadata": {},
   "source": [
    "## train"
   ]
  },
  {
   "cell_type": "code",
   "execution_count": 34,
   "id": "b5a02cbe",
   "metadata": {
    "ExecuteTime": {
     "end_time": "2021-11-12T16:32:41.330259Z",
     "start_time": "2021-11-12T16:32:41.319289Z"
    }
   },
   "outputs": [],
   "source": [
    "if os.path.isdir('logs'):\n",
    "    rmtree(\"logs\")\n",
    "tensorboard_callback = tf.keras.callbacks.TensorBoard(log_dir=\"logs\", update_freq='batch')"
   ]
  },
  {
   "cell_type": "code",
   "execution_count": 35,
   "id": "ad0a918e",
   "metadata": {
    "ExecuteTime": {
     "end_time": "2021-11-12T16:32:47.877260Z",
     "start_time": "2021-11-12T16:32:41.876414Z"
    }
   },
   "outputs": [
    {
     "data": {
      "text/plain": [
       "<tensorflow.python.keras.callbacks.History at 0x7fcc8c2ed310>"
      ]
     },
     "execution_count": 35,
     "metadata": {},
     "output_type": "execute_result"
    }
   ],
   "source": [
    "word2vec.fit(dataset, epochs=cfg['epochs'], callbacks=[tensorboard_callback], verbose=0)"
   ]
  },
  {
   "cell_type": "markdown",
   "id": "c70ad89b",
   "metadata": {},
   "source": [
    "## visualize"
   ]
  },
  {
   "cell_type": "code",
   "execution_count": 31,
   "id": "984e0b55",
   "metadata": {
    "ExecuteTime": {
     "end_time": "2021-11-12T16:11:00.315971Z",
     "start_time": "2021-11-12T16:11:00.303005Z"
    }
   },
   "outputs": [],
   "source": [
    "# %load_ext tensorboard\n",
    "# %tensorboard --logdir logs"
   ]
  },
  {
   "cell_type": "markdown",
   "id": "7a7b0d36",
   "metadata": {},
   "source": [
    "https://projector.tensorflow.org/?config=https://raw.githubusercontent.com/Nam-SW/INE_comment_analysis/main/resource/projector_config.json\n",
    "\n",
    "업데이트 하려면 push 해아함!"
   ]
  },
  {
   "cell_type": "code",
   "execution_count": 36,
   "id": "07113eb5",
   "metadata": {
    "ExecuteTime": {
     "end_time": "2021-11-12T16:32:48.410066Z",
     "start_time": "2021-11-12T16:32:48.018036Z"
    }
   },
   "outputs": [],
   "source": [
    "weights = word2vec.target_embedding.get_weights()[0]\n",
    "# weights = word2vec.embedding.get_weights()[0]\n",
    "\n",
    "out_v = io.open('resource/vectors.tsv', 'w', encoding='utf-8')\n",
    "out_m = io.open('resource/metadata.tsv', 'w', encoding='utf-8')\n",
    "\n",
    "for index, word in tokenizer.id_to_word.items():\n",
    "    if index < 2:\n",
    "        continue  # skip 0, it's padding.\n",
    "    vec = weights[index]\n",
    "    out_v.write('\\t'.join([str(x) for x in vec]) + \"\\n\")\n",
    "    out_m.write(word + \"\\n\")\n",
    "    \n",
    "out_v.close()\n",
    "out_m.close()"
   ]
  },
  {
   "cell_type": "code",
   "execution_count": 37,
   "id": "3621b307",
   "metadata": {},
   "outputs": [],
   "source": [
    "config = {\n",
    "  \"embeddings\": [\n",
    "    {\n",
    "      \"tensorName\": \"Ine word2vec\",\n",
    "      \"tensorShape\": list(weights[2:].shape),\n",
    "      \"tensorPath\": \"https://raw.githubusercontent.com/Nam-SW/INE_comment_analysis/main/resource/vectors.tsv\",\n",
    "      \"metadataPath\": \"https://raw.githubusercontent.com/Nam-SW/INE_comment_analysis/main/resource/metadata.tsv\"\n",
    "    }\n",
    "  ]\n",
    "}"
   ]
  },
  {
   "cell_type": "code",
   "execution_count": 38,
   "id": "ed0e8db6",
   "metadata": {},
   "outputs": [],
   "source": [
    "with open('resource/projector_config.json', \"w\", encoding='utf-8') as f:\n",
    "    json.dump(config, f)"
   ]
  }
 ],
 "metadata": {
  "kernelspec": {
   "display_name": "Python 3 (ipykernel)",
   "language": "python",
   "name": "python3"
  },
  "language_info": {
   "codemirror_mode": {
    "name": "ipython",
    "version": 3
   },
   "file_extension": ".py",
   "mimetype": "text/x-python",
   "name": "python",
   "nbconvert_exporter": "python",
   "pygments_lexer": "ipython3",
   "version": "3.9.5"
  },
  "toc": {
   "base_numbering": 1,
   "nav_menu": {},
   "number_sections": true,
   "sideBar": true,
   "skip_h1_title": false,
   "title_cell": "Table of Contents",
   "title_sidebar": "Contents",
   "toc_cell": false,
   "toc_position": {
    "height": "calc(100% - 180px)",
    "left": "10px",
    "top": "150px",
    "width": "323px"
   },
   "toc_section_display": true,
   "toc_window_display": true
  },
  "varInspector": {
   "cols": {
    "lenName": 16,
    "lenType": 16,
    "lenVar": 40
   },
   "kernels_config": {
    "python": {
     "delete_cmd_postfix": "",
     "delete_cmd_prefix": "del ",
     "library": "var_list.py",
     "varRefreshCmd": "print(var_dic_list())"
    },
    "r": {
     "delete_cmd_postfix": ") ",
     "delete_cmd_prefix": "rm(",
     "library": "var_list.r",
     "varRefreshCmd": "cat(var_dic_list()) "
    }
   },
   "types_to_exclude": [
    "module",
    "function",
    "builtin_function_or_method",
    "instance",
    "_Feature"
   ],
   "window_display": false
  }
 },
 "nbformat": 4,
 "nbformat_minor": 5
}
