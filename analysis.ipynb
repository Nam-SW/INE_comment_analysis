{
 "cells": [
  {
   "cell_type": "markdown",
   "id": "0bb72be5",
   "metadata": {},
   "source": [
    "# data preprocessing"
   ]
  },
  {
   "cell_type": "code",
   "execution_count": 1,
   "id": "c0e47a3b",
   "metadata": {},
   "outputs": [
    {
     "name": "stderr",
     "output_type": "stream",
     "text": [
      "2021-11-12 12:24:30.886214: I tensorflow/stream_executor/platform/default/dso_loader.cc:53] Successfully opened dynamic library libcudart.so.11.0\n"
     ]
    }
   ],
   "source": [
    "import re\n",
    "import pickle\n",
    "from collections import Counter\n",
    "\n",
    "import tensorflow as tf\n",
    "import pandas as pd\n",
    "import numpy as np\n",
    "import matplotlib.pyplot as plt\n",
    "from wordcloud import WordCloud\n",
    "from soynlp.normalizer import repeat_normalize\n",
    "from PIL import Image\n",
    "from tqdm.notebook import tqdm\n",
    "\n",
    "from utils import get_khaiii_api, load_json, pos_text, stemming_text\n",
    "from tokenizer import Tokenizer\n",
    "\n",
    "\n",
    "cfg = load_json(\"config.json\")"
   ]
  },
  {
   "cell_type": "code",
   "execution_count": 2,
   "id": "62d81a7c",
   "metadata": {},
   "outputs": [],
   "source": [
    "api = get_khaiii_api('/mnt/subdisk/workspace/khaiii/build/share/khaiii')"
   ]
  },
  {
   "cell_type": "code",
   "execution_count": 3,
   "id": "c98e2c44",
   "metadata": {},
   "outputs": [
    {
     "data": {
      "text/html": [
       "<div>\n",
       "<style scoped>\n",
       "    .dataframe tbody tr th:only-of-type {\n",
       "        vertical-align: middle;\n",
       "    }\n",
       "\n",
       "    .dataframe tbody tr th {\n",
       "        vertical-align: top;\n",
       "    }\n",
       "\n",
       "    .dataframe thead th {\n",
       "        text-align: right;\n",
       "    }\n",
       "</style>\n",
       "<table border=\"1\" class=\"dataframe\">\n",
       "  <thead>\n",
       "    <tr style=\"text-align: right;\">\n",
       "      <th></th>\n",
       "      <th>title</th>\n",
       "      <th>desc</th>\n",
       "      <th>name</th>\n",
       "      <th>time</th>\n",
       "      <th>comment</th>\n",
       "    </tr>\n",
       "  </thead>\n",
       "  <tbody>\n",
       "    <tr>\n",
       "      <th>0</th>\n",
       "      <td>방송의 5할이 먹는 이야기</td>\n",
       "      <td>20210913. 20211024 아이네의 최애 버거는?  아이네 생방송: http...</td>\n",
       "      <td>한량프로</td>\n",
       "      <td>2021-11-11 07:52:37</td>\n",
       "      <td>잘 먹고 건강만 해다오 ㅋㅋㅋㅋㅋㅋㅋㅋ</td>\n",
       "    </tr>\n",
       "    <tr>\n",
       "      <th>1</th>\n",
       "      <td>방송의 5할이 먹는 이야기</td>\n",
       "      <td>20210913. 20211024 아이네의 최애 버거는?  아이네 생방송: http...</td>\n",
       "      <td>권재혁</td>\n",
       "      <td>2021-11-11 07:51:59</td>\n",
       "      <td>호오... 아이네상... 꽤 높은 먹투력이군요...</td>\n",
       "    </tr>\n",
       "    <tr>\n",
       "      <th>2</th>\n",
       "      <td>방송의 5할이 먹는 이야기</td>\n",
       "      <td>20210913. 20211024 아이네의 최애 버거는?  아이네 생방송: http...</td>\n",
       "      <td>릅릅</td>\n",
       "      <td>2021-11-11 07:49:29</td>\n",
       "      <td>0:51 백신맞고와서 뽀로로밴드 붙인거네ㅋㅋㅋ</td>\n",
       "    </tr>\n",
       "    <tr>\n",
       "      <th>3</th>\n",
       "      <td>방송의 5할이 먹는 이야기</td>\n",
       "      <td>20210913. 20211024 아이네의 최애 버거는?  아이네 생방송: http...</td>\n",
       "      <td>이로운</td>\n",
       "      <td>2021-11-11 07:47:29</td>\n",
       "      <td>재밌는 영상 감사합니다 잘 볼게용</td>\n",
       "    </tr>\n",
       "    <tr>\n",
       "      <th>4</th>\n",
       "      <td>방송의 5할이 먹는 이야기</td>\n",
       "      <td>20210913. 20211024 아이네의 최애 버거는?  아이네 생방송: http...</td>\n",
       "      <td>오월비 MayB</td>\n",
       "      <td>2021-11-11 07:47:26</td>\n",
       "      <td>아니 어떻게 트러플 머쉬룸 와퍼가 단종되지???!! 진짜 어이없네…</td>\n",
       "    </tr>\n",
       "  </tbody>\n",
       "</table>\n",
       "</div>"
      ],
      "text/plain": [
       "            title                                               desc  \\\n",
       "0  방송의 5할이 먹는 이야기  20210913. 20211024 아이네의 최애 버거는?  아이네 생방송: http...   \n",
       "1  방송의 5할이 먹는 이야기  20210913. 20211024 아이네의 최애 버거는?  아이네 생방송: http...   \n",
       "2  방송의 5할이 먹는 이야기  20210913. 20211024 아이네의 최애 버거는?  아이네 생방송: http...   \n",
       "3  방송의 5할이 먹는 이야기  20210913. 20211024 아이네의 최애 버거는?  아이네 생방송: http...   \n",
       "4  방송의 5할이 먹는 이야기  20210913. 20211024 아이네의 최애 버거는?  아이네 생방송: http...   \n",
       "\n",
       "       name                 time                                comment  \n",
       "0      한량프로  2021-11-11 07:52:37                  잘 먹고 건강만 해다오 ㅋㅋㅋㅋㅋㅋㅋㅋ  \n",
       "1       권재혁  2021-11-11 07:51:59           호오... 아이네상... 꽤 높은 먹투력이군요...  \n",
       "2        릅릅  2021-11-11 07:49:29              0:51 백신맞고와서 뽀로로밴드 붙인거네ㅋㅋㅋ  \n",
       "3       이로운  2021-11-11 07:47:29                     재밌는 영상 감사합니다 잘 볼게용  \n",
       "4  오월비 MayB  2021-11-11 07:47:26  아니 어떻게 트러플 머쉬룸 와퍼가 단종되지???!! 진짜 어이없네…  "
      ]
     },
     "execution_count": 3,
     "metadata": {},
     "output_type": "execute_result"
    }
   ],
   "source": [
    "df = pd.read_excel(cfg['output_dir'] + \"/ine_coment.xlsx\")\n",
    "df.head()"
   ]
  },
  {
   "cell_type": "code",
   "execution_count": 4,
   "id": "aac0d821",
   "metadata": {},
   "outputs": [
    {
     "data": {
      "text/html": [
       "<div>\n",
       "<style scoped>\n",
       "    .dataframe tbody tr th:only-of-type {\n",
       "        vertical-align: middle;\n",
       "    }\n",
       "\n",
       "    .dataframe tbody tr th {\n",
       "        vertical-align: top;\n",
       "    }\n",
       "\n",
       "    .dataframe thead th {\n",
       "        text-align: right;\n",
       "    }\n",
       "</style>\n",
       "<table border=\"1\" class=\"dataframe\">\n",
       "  <thead>\n",
       "    <tr style=\"text-align: right;\">\n",
       "      <th></th>\n",
       "      <th>title</th>\n",
       "      <th>desc</th>\n",
       "      <th>name</th>\n",
       "      <th>time</th>\n",
       "      <th>comment</th>\n",
       "    </tr>\n",
       "  </thead>\n",
       "  <tbody>\n",
       "    <tr>\n",
       "      <th>0</th>\n",
       "      <td>방송의 5할이 먹는 이야기</td>\n",
       "      <td>20210913. 20211024 아이네의 최애 버거는?  아이네 생방송: http...</td>\n",
       "      <td>한량프로</td>\n",
       "      <td>2021-11-11 07:52:37</td>\n",
       "      <td>잘 먹고 건강만 해다오</td>\n",
       "    </tr>\n",
       "    <tr>\n",
       "      <th>1</th>\n",
       "      <td>방송의 5할이 먹는 이야기</td>\n",
       "      <td>20210913. 20211024 아이네의 최애 버거는?  아이네 생방송: http...</td>\n",
       "      <td>권재혁</td>\n",
       "      <td>2021-11-11 07:51:59</td>\n",
       "      <td>호오 아이네상 꽤 높은 먹투력이군요</td>\n",
       "    </tr>\n",
       "    <tr>\n",
       "      <th>2</th>\n",
       "      <td>방송의 5할이 먹는 이야기</td>\n",
       "      <td>20210913. 20211024 아이네의 최애 버거는?  아이네 생방송: http...</td>\n",
       "      <td>릅릅</td>\n",
       "      <td>2021-11-11 07:49:29</td>\n",
       "      <td>백신맞고와서 뽀로로밴드 붙인거네</td>\n",
       "    </tr>\n",
       "    <tr>\n",
       "      <th>3</th>\n",
       "      <td>방송의 5할이 먹는 이야기</td>\n",
       "      <td>20210913. 20211024 아이네의 최애 버거는?  아이네 생방송: http...</td>\n",
       "      <td>이로운</td>\n",
       "      <td>2021-11-11 07:47:29</td>\n",
       "      <td>재밌는 영상 감사합니다 잘 볼게용</td>\n",
       "    </tr>\n",
       "    <tr>\n",
       "      <th>4</th>\n",
       "      <td>방송의 5할이 먹는 이야기</td>\n",
       "      <td>20210913. 20211024 아이네의 최애 버거는?  아이네 생방송: http...</td>\n",
       "      <td>오월비 MayB</td>\n",
       "      <td>2021-11-11 07:47:26</td>\n",
       "      <td>아니 어떻게 트러플 머쉬룸 와퍼가 단종되지 진짜 어이없네</td>\n",
       "    </tr>\n",
       "  </tbody>\n",
       "</table>\n",
       "</div>"
      ],
      "text/plain": [
       "            title                                               desc  \\\n",
       "0  방송의 5할이 먹는 이야기  20210913. 20211024 아이네의 최애 버거는?  아이네 생방송: http...   \n",
       "1  방송의 5할이 먹는 이야기  20210913. 20211024 아이네의 최애 버거는?  아이네 생방송: http...   \n",
       "2  방송의 5할이 먹는 이야기  20210913. 20211024 아이네의 최애 버거는?  아이네 생방송: http...   \n",
       "3  방송의 5할이 먹는 이야기  20210913. 20211024 아이네의 최애 버거는?  아이네 생방송: http...   \n",
       "4  방송의 5할이 먹는 이야기  20210913. 20211024 아이네의 최애 버거는?  아이네 생방송: http...   \n",
       "\n",
       "       name                 time                          comment  \n",
       "0      한량프로  2021-11-11 07:52:37                     잘 먹고 건강만 해다오  \n",
       "1       권재혁  2021-11-11 07:51:59              호오 아이네상 꽤 높은 먹투력이군요  \n",
       "2        릅릅  2021-11-11 07:49:29                백신맞고와서 뽀로로밴드 붙인거네  \n",
       "3       이로운  2021-11-11 07:47:29               재밌는 영상 감사합니다 잘 볼게용  \n",
       "4  오월비 MayB  2021-11-11 07:47:26  아니 어떻게 트러플 머쉬룸 와퍼가 단종되지 진짜 어이없네  "
      ]
     },
     "execution_count": 4,
     "metadata": {},
     "output_type": "execute_result"
    }
   ],
   "source": [
    "def normalize(text):\n",
    "    text = text.replace(\"_x000D_\", \" \")\n",
    "    text = text.replace(\"\\n\", \" \")\n",
    "    text = text.replace(\"넴\", \"님\")\n",
    "    text = text.replace(\"는데\", \"다\")\n",
    "    text = text.replace(\"아니네\", \"아이네\")\n",
    "    text = text.replace(\"해미네\", \"햄이네\")\n",
    "    text = re.sub(\"http[s]?://(?:[a-zA-Z]|[0-9]|[$\\-@\\.&+:/?=]|[!*\\(\\),]|(?:%[0-9a-fA-F][0-9a-fA-F]))+\", \"\", text)\n",
    "    text = re.sub(r'\\d+(:\\d+)+|[^ 가-힣0-9]', r' ', text)\n",
    "    text = repeat_normalize(text, 3)\n",
    "    text = re.sub(r'(.{3,}?)\\1+', r'\\1', text)\n",
    "    return text.strip()\n",
    "\n",
    "df = df[df['name'] != '아이네 INE']\n",
    "df['comment'] = df['comment'].apply(normalize)\n",
    "df = df[df['comment'].str.len() > 1]\n",
    "df.head(5)"
   ]
  },
  {
   "cell_type": "code",
   "execution_count": 5,
   "id": "f3d470d7",
   "metadata": {},
   "outputs": [],
   "source": [
    "pos_tagged_corpus = pos_text(df.comment, api)\n",
    "df['processed_comment'] = stemming_text(pos_tagged_corpus)"
   ]
  },
  {
   "cell_type": "code",
   "execution_count": 6,
   "id": "43eb4c08",
   "metadata": {},
   "outputs": [
    {
     "data": {
      "text/plain": [
       "0                          잘/MAG 먹다/VV 건강/NNG 하다/VV 오/NNG\n",
       "1                 호오/NNP 아이네/NNP 상/NNG 꽤/MAG 높/VA 먹투력/NNG\n",
       "2                          백신맞/NNG 뽀로로밴드/NNG 붙이다/VV 거/NNG\n",
       "3                  재밌/VA 영상/NNG 감사하다/VV 잘/MAG 볼/NNG 용/NNG\n",
       "4       어떻/VA 트/NNG 러다/VV 플/NNG 머쉬룸/NNG 와퍼/NNG 단종되다/VV...\n",
       "                              ...                        \n",
       "8268                                                     \n",
       "8270                                      아이네/NNP 아이네/NNP\n",
       "8271                                        앙/NNP 구독띠/NNG\n",
       "8272                                                     \n",
       "8273                          빠/NNB 당/NNG 아이네/NNP 파이팅/NNG\n",
       "Name: processed_comment, Length: 7753, dtype: object"
      ]
     },
     "execution_count": 6,
     "metadata": {},
     "output_type": "execute_result"
    }
   ],
   "source": [
    "df['processed_comment']"
   ]
  },
  {
   "cell_type": "code",
   "execution_count": 7,
   "id": "9ae73c72",
   "metadata": {},
   "outputs": [
    {
     "data": {
      "text/html": [
       "<div>\n",
       "<style scoped>\n",
       "    .dataframe tbody tr th:only-of-type {\n",
       "        vertical-align: middle;\n",
       "    }\n",
       "\n",
       "    .dataframe tbody tr th {\n",
       "        vertical-align: top;\n",
       "    }\n",
       "\n",
       "    .dataframe thead th {\n",
       "        text-align: right;\n",
       "    }\n",
       "</style>\n",
       "<table border=\"1\" class=\"dataframe\">\n",
       "  <thead>\n",
       "    <tr style=\"text-align: right;\">\n",
       "      <th></th>\n",
       "      <th>title</th>\n",
       "      <th>desc</th>\n",
       "      <th>name</th>\n",
       "      <th>time</th>\n",
       "      <th>comment</th>\n",
       "      <th>processed_comment</th>\n",
       "    </tr>\n",
       "  </thead>\n",
       "  <tbody>\n",
       "    <tr>\n",
       "      <th>0</th>\n",
       "      <td>방송의 5할이 먹는 이야기</td>\n",
       "      <td>20210913. 20211024 아이네의 최애 버거는?  아이네 생방송: http...</td>\n",
       "      <td>한량프로</td>\n",
       "      <td>2021-11-11 07:52:37</td>\n",
       "      <td>잘 먹고 건강만 해다오</td>\n",
       "      <td>잘 먹다 건강 하다 오</td>\n",
       "    </tr>\n",
       "    <tr>\n",
       "      <th>1</th>\n",
       "      <td>방송의 5할이 먹는 이야기</td>\n",
       "      <td>20210913. 20211024 아이네의 최애 버거는?  아이네 생방송: http...</td>\n",
       "      <td>권재혁</td>\n",
       "      <td>2021-11-11 07:51:59</td>\n",
       "      <td>호오 아이네상 꽤 높은 먹투력이군요</td>\n",
       "      <td>호오 아이네 상 꽤 높 먹투력</td>\n",
       "    </tr>\n",
       "    <tr>\n",
       "      <th>2</th>\n",
       "      <td>방송의 5할이 먹는 이야기</td>\n",
       "      <td>20210913. 20211024 아이네의 최애 버거는?  아이네 생방송: http...</td>\n",
       "      <td>릅릅</td>\n",
       "      <td>2021-11-11 07:49:29</td>\n",
       "      <td>백신맞고와서 뽀로로밴드 붙인거네</td>\n",
       "      <td>백신맞 뽀로로밴드 붙이다 거</td>\n",
       "    </tr>\n",
       "    <tr>\n",
       "      <th>3</th>\n",
       "      <td>방송의 5할이 먹는 이야기</td>\n",
       "      <td>20210913. 20211024 아이네의 최애 버거는?  아이네 생방송: http...</td>\n",
       "      <td>이로운</td>\n",
       "      <td>2021-11-11 07:47:29</td>\n",
       "      <td>재밌는 영상 감사합니다 잘 볼게용</td>\n",
       "      <td>재밌 영상 감사하다 잘 볼 용</td>\n",
       "    </tr>\n",
       "    <tr>\n",
       "      <th>4</th>\n",
       "      <td>방송의 5할이 먹는 이야기</td>\n",
       "      <td>20210913. 20211024 아이네의 최애 버거는?  아이네 생방송: http...</td>\n",
       "      <td>오월비 MayB</td>\n",
       "      <td>2021-11-11 07:47:26</td>\n",
       "      <td>아니 어떻게 트러플 머쉬룸 와퍼가 단종되지 진짜 어이없네</td>\n",
       "      <td>어떻 트 러다 플 머쉬룸 와퍼 단종되다 진짜 어이없</td>\n",
       "    </tr>\n",
       "  </tbody>\n",
       "</table>\n",
       "</div>"
      ],
      "text/plain": [
       "            title                                               desc  \\\n",
       "0  방송의 5할이 먹는 이야기  20210913. 20211024 아이네의 최애 버거는?  아이네 생방송: http...   \n",
       "1  방송의 5할이 먹는 이야기  20210913. 20211024 아이네의 최애 버거는?  아이네 생방송: http...   \n",
       "2  방송의 5할이 먹는 이야기  20210913. 20211024 아이네의 최애 버거는?  아이네 생방송: http...   \n",
       "3  방송의 5할이 먹는 이야기  20210913. 20211024 아이네의 최애 버거는?  아이네 생방송: http...   \n",
       "4  방송의 5할이 먹는 이야기  20210913. 20211024 아이네의 최애 버거는?  아이네 생방송: http...   \n",
       "\n",
       "       name                 time                          comment  \\\n",
       "0      한량프로  2021-11-11 07:52:37                     잘 먹고 건강만 해다오   \n",
       "1       권재혁  2021-11-11 07:51:59              호오 아이네상 꽤 높은 먹투력이군요   \n",
       "2        릅릅  2021-11-11 07:49:29                백신맞고와서 뽀로로밴드 붙인거네   \n",
       "3       이로운  2021-11-11 07:47:29               재밌는 영상 감사합니다 잘 볼게용   \n",
       "4  오월비 MayB  2021-11-11 07:47:26  아니 어떻게 트러플 머쉬룸 와퍼가 단종되지 진짜 어이없네   \n",
       "\n",
       "              processed_comment  \n",
       "0                  잘 먹다 건강 하다 오  \n",
       "1              호오 아이네 상 꽤 높 먹투력  \n",
       "2               백신맞 뽀로로밴드 붙이다 거  \n",
       "3              재밌 영상 감사하다 잘 볼 용  \n",
       "4  어떻 트 러다 플 머쉬룸 와퍼 단종되다 진짜 어이없  "
      ]
     },
     "execution_count": 7,
     "metadata": {},
     "output_type": "execute_result"
    }
   ],
   "source": [
    "df['processed_comment'] = df['processed_comment'].apply(\n",
    "    lambda x: ' '.join(\n",
    "        [\n",
    "            w.split('/')[0] \n",
    "            for w in x.split() \n",
    "            if w.split('/')[1] in ['NNG', 'NNP', 'VV', 'VA', 'MAG', 'MAJ']\n",
    "        ]\n",
    "    )\n",
    ")\n",
    "df = df[df['processed_comment'] != \"\"]\n",
    "df.head()"
   ]
  },
  {
   "cell_type": "markdown",
   "id": "ffc9d679",
   "metadata": {},
   "source": [
    "# draw wordcloud"
   ]
  },
  {
   "cell_type": "code",
   "execution_count": 8,
   "id": "49409448",
   "metadata": {},
   "outputs": [],
   "source": [
    "all_tokens = sum(df['processed_comment'].apply(lambda x: x.split()), [])"
   ]
  },
  {
   "cell_type": "code",
   "execution_count": 9,
   "id": "538a39ca",
   "metadata": {},
   "outputs": [
    {
     "data": {
      "text/plain": [
       "[('아이네', 1401),\n",
       " ('너무', 970),\n",
       " ('좋', 805),\n",
       " ('하다', 780),\n",
       " ('보다', 768),\n",
       " ('있다', 432),\n",
       " ('진짜', 420),\n",
       " ('킹아', 388),\n",
       " ('주다', 346),\n",
       " ('귀엽', 344)]"
      ]
     },
     "execution_count": 9,
     "metadata": {},
     "output_type": "execute_result"
    }
   ],
   "source": [
    "counter = Counter(all_tokens)\n",
    "\n",
    "counter.most_common(10)"
   ]
  },
  {
   "cell_type": "code",
   "execution_count": 10,
   "id": "5d3007b1",
   "metadata": {},
   "outputs": [
    {
     "data": {
      "image/png": "[encoded data removed]",
      "text/plain": [
       "<Figure size 720x576 with 1 Axes>"
      ]
     },
     "metadata": {
      "needs_background": "light"
     },
     "output_type": "display_data"
    }
   ],
   "source": [
    "bgimg = Image.open('resource/wakdoo.png')\n",
    "mask = np.array(bgimg)\n",
    "\n",
    "wc = WordCloud(font_path=cfg['font_path'],background_color=\"white\", max_font_size=200, mask=mask)\n",
    "cloud = wc.generate_from_frequencies(dict(counter.most_common(80)))\n",
    "cloud.to_file(\"resource/wordcloud.png\")\n",
    "\n",
    "plt.figure(figsize=(10, 8))\n",
    "plt.axis('off')\n",
    "plt.imshow(cloud)\n",
    "plt.show()"
   ]
  },
  {
   "cell_type": "markdown",
   "id": "6c86bf40",
   "metadata": {},
   "source": [
    "# tokenizer"
   ]
  },
  {
   "cell_type": "code",
   "execution_count": 11,
   "id": "04ce70d4",
   "metadata": {},
   "outputs": [],
   "source": [
    "tokens = [\"[PAD]\", \"[UNK]\"] + [t[0] for t in counter.most_common(len(counter))]\n",
    "\n",
    "with open(\"resource/tokenizer.pkl\", \"wb\") as f:\n",
    "    pickle.dump({k: i for i, k in enumerate(tokens)}, f)"
   ]
  },
  {
   "cell_type": "code",
   "execution_count": 12,
   "id": "70d25c62",
   "metadata": {},
   "outputs": [],
   "source": [
    "tokenizer = Tokenizer(\"resource/tokenizer.pkl\")"
   ]
  },
  {
   "cell_type": "code",
   "execution_count": 13,
   "id": "a751d48d",
   "metadata": {},
   "outputs": [
    {
     "name": "stdout",
     "output_type": "stream",
     "text": [
      "잘 먹다 건강 하다 오\n",
      "[12, 62, 1258, 5, 125]\n"
     ]
    }
   ],
   "source": [
    "sample_text = df.iloc[0, -1]\n",
    "\n",
    "print(sample_text)\n",
    "print(tokenizer.encode(sample_text))"
   ]
  },
  {
   "cell_type": "markdown",
   "id": "6fdddb92",
   "metadata": {},
   "source": [
    "# word 2 Vec"
   ]
  },
  {
   "cell_type": "code",
   "execution_count": 24,
   "id": "834e618f",
   "metadata": {},
   "outputs": [],
   "source": [
    "targets, contexts, labels = [], [], []\n",
    "\n",
    "sampling_table = tf.keras.preprocessing.sequence.make_sampling_table(tokenizer.vocab_size)"
   ]
  },
  {
   "cell_type": "code",
   "execution_count": 25,
   "id": "9da8c677",
   "metadata": {},
   "outputs": [
    {
     "data": {
      "application/vnd.jupyter.widget-view+json": {
       "model_id": "10ffd17dc0c9499a8005c0c36d83b7ae",
       "version_major": 2,
       "version_minor": 0
      },
      "text/plain": [
       "HBox(children=(FloatProgress(value=0.0, max=7640.0), HTML(value='')))"
      ]
     },
     "metadata": {},
     "output_type": "display_data"
    },
    {
     "name": "stdout",
     "output_type": "stream",
     "text": [
      "\n"
     ]
    }
   ],
   "source": [
    "for text in tqdm(df.processed_comment):\n",
    "    sequence = tokenizer.encode(text)\n",
    "    if len(sequence) < cfg['num_negative_samples'] * 2 + 1:\n",
    "        continue\n",
    "    \n",
    "    positive_skip_grams, _ = tf.keras.preprocessing.sequence.skipgrams(\n",
    "        sequence,\n",
    "        vocabulary_size=tokenizer.vocab_size,\n",
    "        sampling_table=sampling_table,\n",
    "        window_size=cfg['window_size'],\n",
    "        negative_samples=0\n",
    "    )\n",
    "\n",
    "    for target_word, context_word in positive_skip_grams:\n",
    "        context_class = tf.expand_dims(tf.constant([context_word], dtype=\"int64\"), 1)\n",
    "        negative_sampling_candidates, _, _ = tf.random.log_uniform_candidate_sampler(\n",
    "            true_classes=context_class,\n",
    "            num_true=1,\n",
    "            num_sampled=cfg['num_negative_samples'],\n",
    "            unique=True,\n",
    "            range_max=tokenizer.vocab_size,\n",
    "            seed=cfg['random_seed'],\n",
    "            name=\"negative_sampling\"\n",
    "        )\n",
    "\n",
    "        negative_sampling_candidates = tf.expand_dims(negative_sampling_candidates, 1)\n",
    "\n",
    "        context = tf.concat([context_class, negative_sampling_candidates], 0)\n",
    "        label = tf.constant([1] + [0] * cfg['num_negative_samples'], dtype=\"int64\")\n",
    "\n",
    "        targets.append(target_word)\n",
    "        contexts.append(context)\n",
    "        labels.append(label)"
   ]
  },
  {
   "cell_type": "code",
   "execution_count": 27,
   "id": "2493b99f",
   "metadata": {},
   "outputs": [
    {
     "data": {
      "text/plain": [
       "((14030,), (14030, 5), (14030, 5))"
      ]
     },
     "execution_count": 27,
     "metadata": {},
     "output_type": "execute_result"
    }
   ],
   "source": [
    "targets = np.array(targets)\n",
    "contexts = np.array(contexts)[:,:,0]\n",
    "labels = np.array(labels)\n",
    "\n",
    "targets.shape, contexts.shape, labels.shape"
   ]
  }
 ],
 "metadata": {
  "kernelspec": {
   "display_name": "Python 3 (ipykernel)",
   "language": "python",
   "name": "python3"
  },
  "language_info": {
   "codemirror_mode": {
    "name": "ipython",
    "version": 3
   },
   "file_extension": ".py",
   "mimetype": "text/x-python",
   "name": "python",
   "nbconvert_exporter": "python",
   "pygments_lexer": "ipython3",
   "version": "3.9.5"
  }
 },
 "nbformat": 4,
 "nbformat_minor": 5
}
