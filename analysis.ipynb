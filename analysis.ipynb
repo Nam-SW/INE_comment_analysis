{
 "cells": [
  {
   "cell_type": "markdown",
   "id": "301dedef",
   "metadata": {},
   "source": [
    "# data preprocessing"
   ]
  },
  {
   "cell_type": "code",
   "execution_count": 60,
   "id": "90367925",
   "metadata": {
    "ExecuteTime": {
     "end_time": "2021-11-12T16:30:38.852713Z",
     "start_time": "2021-11-12T16:30:38.840745Z"
    }
   },
   "outputs": [],
   "source": [
    "import io\n",
    "import pickle\n",
    "import re\n",
    "from collections import Counter\n",
    "from shutil import rmtree\n",
    "\n",
    "import matplotlib.pyplot as plt\n",
    "import numpy as np\n",
    "import pandas as pd\n",
    "import tensorflow as tf\n",
    "from tensorboard.plugins import projector\n",
    "from PIL import Image\n",
    "from soynlp.normalizer import repeat_normalize\n",
    "from tqdm.notebook import tqdm\n",
    "from wordcloud import WordCloud\n",
    "\n",
    "from tokenizer import Tokenizer\n",
    "from utils import load_json, save_pickle\n",
    "\n",
    "\n",
    "cfg = load_json(\"config.json\")"
   ]
  },
  {
   "cell_type": "code",
   "execution_count": 34,
   "id": "6827018d",
   "metadata": {},
   "outputs": [],
   "source": [
    "from khaiii_utils import get_khaiii_api, pos_text, stemming_text\n",
    "api = get_khaiii_api('/mnt/subdisk/workspace/khaiii/build/share/khaiii')"
   ]
  },
  {
   "cell_type": "code",
   "execution_count": 35,
   "id": "2454afd5",
   "metadata": {},
   "outputs": [
    {
     "data": {
      "text/html": [
       "<div>\n",
       "<style scoped>\n",
       "    .dataframe tbody tr th:only-of-type {\n",
       "        vertical-align: middle;\n",
       "    }\n",
       "\n",
       "    .dataframe tbody tr th {\n",
       "        vertical-align: top;\n",
       "    }\n",
       "\n",
       "    .dataframe thead th {\n",
       "        text-align: right;\n",
       "    }\n",
       "</style>\n",
       "<table border=\"1\" class=\"dataframe\">\n",
       "  <thead>\n",
       "    <tr style=\"text-align: right;\">\n",
       "      <th></th>\n",
       "      <th>title</th>\n",
       "      <th>desc</th>\n",
       "      <th>name</th>\n",
       "      <th>time</th>\n",
       "      <th>comment</th>\n",
       "    </tr>\n",
       "  </thead>\n",
       "  <tbody>\n",
       "    <tr>\n",
       "      <th>0</th>\n",
       "      <td>방송의 5할이 먹는 이야기라네</td>\n",
       "      <td>20210913. 20211024 아이네의 최애 버거는?  아이네 생방송: http...</td>\n",
       "      <td>ᄋᄋ</td>\n",
       "      <td>2021-11-12 03:04:35</td>\n",
       "      <td>아이네님 먹는 경양식 돈까스 브랜드가 뭔지 알 수 있을까요?</td>\n",
       "    </tr>\n",
       "    <tr>\n",
       "      <th>1</th>\n",
       "      <td>방송의 5할이 먹는 이야기라네</td>\n",
       "      <td>20210913. 20211024 아이네의 최애 버거는?  아이네 생방송: http...</td>\n",
       "      <td>Gsg Shim</td>\n",
       "      <td>2021-11-12 02:32:24</td>\n",
       "      <td>아웃트로 음악 뭔지 아시는분 ㅜㅠ</td>\n",
       "    </tr>\n",
       "    <tr>\n",
       "      <th>2</th>\n",
       "      <td>방송의 5할이 먹는 이야기라네</td>\n",
       "      <td>20210913. 20211024 아이네의 최애 버거는?  아이네 생방송: http...</td>\n",
       "      <td>루미더스</td>\n",
       "      <td>2021-11-12 02:12:40</td>\n",
       "      <td>최애 버거에 대한 진심이 느겨지는 영상 입니닼ㅋㅋㅋ</td>\n",
       "    </tr>\n",
       "    <tr>\n",
       "      <th>3</th>\n",
       "      <td>방송의 5할이 먹는 이야기라네</td>\n",
       "      <td>20210913. 20211024 아이네의 최애 버거는?  아이네 생방송: http...</td>\n",
       "      <td>쵸핑</td>\n",
       "      <td>2021-11-12 00:08:23</td>\n",
       "      <td>색깔 취향 확고, 음식 취향 확고 등... 종합해보면 아이네님의 덕력은 역시 이세돌...</td>\n",
       "    </tr>\n",
       "    <tr>\n",
       "      <th>4</th>\n",
       "      <td>방송의 5할이 먹는 이야기라네</td>\n",
       "      <td>20210913. 20211024 아이네의 최애 버거는?  아이네 생방송: http...</td>\n",
       "      <td>짬통</td>\n",
       "      <td>2021-11-11 23:49:58</td>\n",
       "      <td>\"복에 겨워서 감흥이 없어요\" \"냔냔냐! 냔냔냐냐!!\"</td>\n",
       "    </tr>\n",
       "  </tbody>\n",
       "</table>\n",
       "</div>"
      ],
      "text/plain": [
       "              title                                               desc  \\\n",
       "0  방송의 5할이 먹는 이야기라네  20210913. 20211024 아이네의 최애 버거는?  아이네 생방송: http...   \n",
       "1  방송의 5할이 먹는 이야기라네  20210913. 20211024 아이네의 최애 버거는?  아이네 생방송: http...   \n",
       "2  방송의 5할이 먹는 이야기라네  20210913. 20211024 아이네의 최애 버거는?  아이네 생방송: http...   \n",
       "3  방송의 5할이 먹는 이야기라네  20210913. 20211024 아이네의 최애 버거는?  아이네 생방송: http...   \n",
       "4  방송의 5할이 먹는 이야기라네  20210913. 20211024 아이네의 최애 버거는?  아이네 생방송: http...   \n",
       "\n",
       "       name                 time  \\\n",
       "0        ᄋᄋ  2021-11-12 03:04:35   \n",
       "1  Gsg Shim  2021-11-12 02:32:24   \n",
       "2      루미더스  2021-11-12 02:12:40   \n",
       "3        쵸핑  2021-11-12 00:08:23   \n",
       "4        짬통  2021-11-11 23:49:58   \n",
       "\n",
       "                                             comment  \n",
       "0                  아이네님 먹는 경양식 돈까스 브랜드가 뭔지 알 수 있을까요?  \n",
       "1                                 아웃트로 음악 뭔지 아시는분 ㅜㅠ  \n",
       "2                       최애 버거에 대한 진심이 느겨지는 영상 입니닼ㅋㅋㅋ  \n",
       "3  색깔 취향 확고, 음식 취향 확고 등... 종합해보면 아이네님의 덕력은 역시 이세돌...  \n",
       "4                     \"복에 겨워서 감흥이 없어요\" \"냔냔냐! 냔냔냐냐!!\"  "
      ]
     },
     "execution_count": 35,
     "metadata": {},
     "output_type": "execute_result"
    }
   ],
   "source": [
    "df = pd.read_excel(\"resource/ine_coment.xlsx\")\n",
    "df.head()"
   ]
  },
  {
   "cell_type": "code",
   "execution_count": 36,
   "id": "f0104f7a",
   "metadata": {},
   "outputs": [
    {
     "data": {
      "text/html": [
       "<div>\n",
       "<style scoped>\n",
       "    .dataframe tbody tr th:only-of-type {\n",
       "        vertical-align: middle;\n",
       "    }\n",
       "\n",
       "    .dataframe tbody tr th {\n",
       "        vertical-align: top;\n",
       "    }\n",
       "\n",
       "    .dataframe thead th {\n",
       "        text-align: right;\n",
       "    }\n",
       "</style>\n",
       "<table border=\"1\" class=\"dataframe\">\n",
       "  <thead>\n",
       "    <tr style=\"text-align: right;\">\n",
       "      <th></th>\n",
       "      <th>title</th>\n",
       "      <th>desc</th>\n",
       "      <th>name</th>\n",
       "      <th>time</th>\n",
       "      <th>comment</th>\n",
       "    </tr>\n",
       "  </thead>\n",
       "  <tbody>\n",
       "    <tr>\n",
       "      <th>0</th>\n",
       "      <td>방송의 5할이 먹는 이야기라네</td>\n",
       "      <td>20210913. 20211024 아이네의 최애 버거는?  아이네 생방송: http...</td>\n",
       "      <td>ᄋᄋ</td>\n",
       "      <td>2021-11-12 03:04:35</td>\n",
       "      <td>아이네님 먹는 경양식 돈까스 브랜드가 뭔지 알 수 있을까요</td>\n",
       "    </tr>\n",
       "    <tr>\n",
       "      <th>1</th>\n",
       "      <td>방송의 5할이 먹는 이야기라네</td>\n",
       "      <td>20210913. 20211024 아이네의 최애 버거는?  아이네 생방송: http...</td>\n",
       "      <td>Gsg Shim</td>\n",
       "      <td>2021-11-12 02:32:24</td>\n",
       "      <td>아웃트로 음악 뭔지 아시는분</td>\n",
       "    </tr>\n",
       "    <tr>\n",
       "      <th>2</th>\n",
       "      <td>방송의 5할이 먹는 이야기라네</td>\n",
       "      <td>20210913. 20211024 아이네의 최애 버거는?  아이네 생방송: http...</td>\n",
       "      <td>루미더스</td>\n",
       "      <td>2021-11-12 02:12:40</td>\n",
       "      <td>최애 버거에 대한 진심이 느겨지는 영상 입니닼</td>\n",
       "    </tr>\n",
       "    <tr>\n",
       "      <th>3</th>\n",
       "      <td>방송의 5할이 먹는 이야기라네</td>\n",
       "      <td>20210913. 20211024 아이네의 최애 버거는?  아이네 생방송: http...</td>\n",
       "      <td>쵸핑</td>\n",
       "      <td>2021-11-12 00:08:23</td>\n",
       "      <td>색깔 취향 확고 음식 취향 확고 등 종합해보면 아이네님의 덕력은 역시 이세돌 최강인...</td>\n",
       "    </tr>\n",
       "    <tr>\n",
       "      <th>4</th>\n",
       "      <td>방송의 5할이 먹는 이야기라네</td>\n",
       "      <td>20210913. 20211024 아이네의 최애 버거는?  아이네 생방송: http...</td>\n",
       "      <td>짬통</td>\n",
       "      <td>2021-11-11 23:49:58</td>\n",
       "      <td>복에 겨워서 감흥이 없어요 냔냔냐냐</td>\n",
       "    </tr>\n",
       "  </tbody>\n",
       "</table>\n",
       "</div>"
      ],
      "text/plain": [
       "              title                                               desc  \\\n",
       "0  방송의 5할이 먹는 이야기라네  20210913. 20211024 아이네의 최애 버거는?  아이네 생방송: http...   \n",
       "1  방송의 5할이 먹는 이야기라네  20210913. 20211024 아이네의 최애 버거는?  아이네 생방송: http...   \n",
       "2  방송의 5할이 먹는 이야기라네  20210913. 20211024 아이네의 최애 버거는?  아이네 생방송: http...   \n",
       "3  방송의 5할이 먹는 이야기라네  20210913. 20211024 아이네의 최애 버거는?  아이네 생방송: http...   \n",
       "4  방송의 5할이 먹는 이야기라네  20210913. 20211024 아이네의 최애 버거는?  아이네 생방송: http...   \n",
       "\n",
       "       name                 time  \\\n",
       "0        ᄋᄋ  2021-11-12 03:04:35   \n",
       "1  Gsg Shim  2021-11-12 02:32:24   \n",
       "2      루미더스  2021-11-12 02:12:40   \n",
       "3        쵸핑  2021-11-12 00:08:23   \n",
       "4        짬통  2021-11-11 23:49:58   \n",
       "\n",
       "                                             comment  \n",
       "0                   아이네님 먹는 경양식 돈까스 브랜드가 뭔지 알 수 있을까요  \n",
       "1                                    아웃트로 음악 뭔지 아시는분  \n",
       "2                          최애 버거에 대한 진심이 느겨지는 영상 입니닼  \n",
       "3  색깔 취향 확고 음식 취향 확고 등 종합해보면 아이네님의 덕력은 역시 이세돌 최강인...  \n",
       "4                                복에 겨워서 감흥이 없어요 냔냔냐냐  "
      ]
     },
     "execution_count": 36,
     "metadata": {},
     "output_type": "execute_result"
    }
   ],
   "source": [
    "def normalize(text):\n",
    "    text = text.replace(\"_x000D_\", \" \")\n",
    "    text = text.replace(\"\\n\", \" \")\n",
    "    text = text.replace(\"넴\", \"님\")\n",
    "    text = text.replace(\"넘\", \"님\")\n",
    "    text = text.replace(\"는데\", \"다\")\n",
    "    text = text.replace(\"아니네\", \"아이네\")\n",
    "    text = text.replace(\"해미네\", \"햄이네\")\n",
    "    text = re.sub(\"http[s]?://(?:[a-zA-Z]|[0-9]|[$\\-@\\.&+:/?=]|[!*\\(\\),]|(?:%[0-9a-fA-F][0-9a-fA-F]))+\", \"\", text)\n",
    "    text = re.sub(r'\\d+(:\\d+)+|[^ 가-힣0-9]', r' ', text)\n",
    "    text = repeat_normalize(text, 3)\n",
    "    text = re.sub(r'(.{3,}?)\\1+', r'\\1', text)\n",
    "    return text.strip()\n",
    "\n",
    "df = df[df['name'] != '아이네 INE']\n",
    "df['comment'] = df['comment'].apply(normalize)\n",
    "df = df[df['comment'].str.len() > 1]\n",
    "df.head(5)"
   ]
  },
  {
   "cell_type": "code",
   "execution_count": 37,
   "id": "62e7fa2d",
   "metadata": {},
   "outputs": [],
   "source": [
    "pos_tagged_corpus = pos_text(df.comment, api)\n",
    "df['processed_comment'] = stemming_text(pos_tagged_corpus)"
   ]
  },
  {
   "cell_type": "code",
   "execution_count": 39,
   "id": "01d75bf1",
   "metadata": {},
   "outputs": [
    {
     "data": {
      "text/html": [
       "<div>\n",
       "<style scoped>\n",
       "    .dataframe tbody tr th:only-of-type {\n",
       "        vertical-align: middle;\n",
       "    }\n",
       "\n",
       "    .dataframe tbody tr th {\n",
       "        vertical-align: top;\n",
       "    }\n",
       "\n",
       "    .dataframe thead th {\n",
       "        text-align: right;\n",
       "    }\n",
       "</style>\n",
       "<table border=\"1\" class=\"dataframe\">\n",
       "  <thead>\n",
       "    <tr style=\"text-align: right;\">\n",
       "      <th></th>\n",
       "      <th>title</th>\n",
       "      <th>desc</th>\n",
       "      <th>name</th>\n",
       "      <th>time</th>\n",
       "      <th>comment</th>\n",
       "      <th>processed_comment</th>\n",
       "    </tr>\n",
       "  </thead>\n",
       "  <tbody>\n",
       "    <tr>\n",
       "      <th>0</th>\n",
       "      <td>방송의 5할이 먹는 이야기라네</td>\n",
       "      <td>20210913. 20211024 아이네의 최애 버거는?  아이네 생방송: http...</td>\n",
       "      <td>ᄋᄋ</td>\n",
       "      <td>2021-11-12 03:04:35</td>\n",
       "      <td>아이네님 먹는 경양식 돈까스 브랜드가 뭔지 알 수 있을까요</td>\n",
       "      <td>아이네 먹다 경양식 돈까스 브랜드 알다 있다</td>\n",
       "    </tr>\n",
       "    <tr>\n",
       "      <th>1</th>\n",
       "      <td>방송의 5할이 먹는 이야기라네</td>\n",
       "      <td>20210913. 20211024 아이네의 최애 버거는?  아이네 생방송: http...</td>\n",
       "      <td>Gsg Shim</td>\n",
       "      <td>2021-11-12 02:32:24</td>\n",
       "      <td>아웃트로 음악 뭔지 아시는분</td>\n",
       "      <td>아웃트 음악 알다</td>\n",
       "    </tr>\n",
       "    <tr>\n",
       "      <th>2</th>\n",
       "      <td>방송의 5할이 먹는 이야기라네</td>\n",
       "      <td>20210913. 20211024 아이네의 최애 버거는?  아이네 생방송: http...</td>\n",
       "      <td>루미더스</td>\n",
       "      <td>2021-11-12 02:12:40</td>\n",
       "      <td>최애 버거에 대한 진심이 느겨지는 영상 입니닼</td>\n",
       "      <td>최애 버거 대하다 진심 느다 기 지다 영상 입</td>\n",
       "    </tr>\n",
       "    <tr>\n",
       "      <th>3</th>\n",
       "      <td>방송의 5할이 먹는 이야기라네</td>\n",
       "      <td>20210913. 20211024 아이네의 최애 버거는?  아이네 생방송: http...</td>\n",
       "      <td>쵸핑</td>\n",
       "      <td>2021-11-12 00:08:23</td>\n",
       "      <td>색깔 취향 확고 음식 취향 확고 등 종합해보면 아이네님의 덕력은 역시 이세돌 최강인...</td>\n",
       "      <td>색깔 취향 확고 음식 취향 확고 종합하다 보다 아이네 덕력 역시 이세돌 최강인 같</td>\n",
       "    </tr>\n",
       "    <tr>\n",
       "      <th>4</th>\n",
       "      <td>방송의 5할이 먹는 이야기라네</td>\n",
       "      <td>20210913. 20211024 아이네의 최애 버거는?  아이네 생방송: http...</td>\n",
       "      <td>짬통</td>\n",
       "      <td>2021-11-11 23:49:58</td>\n",
       "      <td>복에 겨워서 감흥이 없어요 냔냔냐냐</td>\n",
       "      <td>복 겹 감흥 없 냔다</td>\n",
       "    </tr>\n",
       "  </tbody>\n",
       "</table>\n",
       "</div>"
      ],
      "text/plain": [
       "              title                                               desc  \\\n",
       "0  방송의 5할이 먹는 이야기라네  20210913. 20211024 아이네의 최애 버거는?  아이네 생방송: http...   \n",
       "1  방송의 5할이 먹는 이야기라네  20210913. 20211024 아이네의 최애 버거는?  아이네 생방송: http...   \n",
       "2  방송의 5할이 먹는 이야기라네  20210913. 20211024 아이네의 최애 버거는?  아이네 생방송: http...   \n",
       "3  방송의 5할이 먹는 이야기라네  20210913. 20211024 아이네의 최애 버거는?  아이네 생방송: http...   \n",
       "4  방송의 5할이 먹는 이야기라네  20210913. 20211024 아이네의 최애 버거는?  아이네 생방송: http...   \n",
       "\n",
       "       name                 time  \\\n",
       "0        ᄋᄋ  2021-11-12 03:04:35   \n",
       "1  Gsg Shim  2021-11-12 02:32:24   \n",
       "2      루미더스  2021-11-12 02:12:40   \n",
       "3        쵸핑  2021-11-12 00:08:23   \n",
       "4        짬통  2021-11-11 23:49:58   \n",
       "\n",
       "                                             comment  \\\n",
       "0                   아이네님 먹는 경양식 돈까스 브랜드가 뭔지 알 수 있을까요   \n",
       "1                                    아웃트로 음악 뭔지 아시는분   \n",
       "2                          최애 버거에 대한 진심이 느겨지는 영상 입니닼   \n",
       "3  색깔 취향 확고 음식 취향 확고 등 종합해보면 아이네님의 덕력은 역시 이세돌 최강인...   \n",
       "4                                복에 겨워서 감흥이 없어요 냔냔냐냐   \n",
       "\n",
       "                               processed_comment  \n",
       "0                       아이네 먹다 경양식 돈까스 브랜드 알다 있다  \n",
       "1                                      아웃트 음악 알다  \n",
       "2                      최애 버거 대하다 진심 느다 기 지다 영상 입  \n",
       "3  색깔 취향 확고 음식 취향 확고 종합하다 보다 아이네 덕력 역시 이세돌 최강인 같  \n",
       "4                                    복 겹 감흥 없 냔다  "
      ]
     },
     "execution_count": 39,
     "metadata": {},
     "output_type": "execute_result"
    }
   ],
   "source": [
    "df['processed_comment'] = df['processed_comment'].apply(\n",
    "    lambda x: ' '.join(\n",
    "        [\n",
    "            w.split('/')[0] \n",
    "            for w in x.split() \n",
    "            if w.split('/')[1] in ['NNG', 'NNP', 'VV', 'VA', 'MAG', 'MAJ']\n",
    "        ]\n",
    "    )\n",
    ")\n",
    "df = df[df['processed_comment'] != \"\"]\n",
    "df.head()"
   ]
  },
  {
   "cell_type": "code",
   "execution_count": 40,
   "id": "fcdaf711",
   "metadata": {},
   "outputs": [],
   "source": [
    "df.to_excel(\"resource/preprecessed_ine_coment.xlsx\", index=None)"
   ]
  },
  {
   "cell_type": "code",
   "execution_count": 2,
   "id": "80d3b9c5",
   "metadata": {
    "ExecuteTime": {
     "end_time": "2021-11-12T15:27:34.300498Z",
     "start_time": "2021-11-12T15:27:32.880237Z"
    }
   },
   "outputs": [],
   "source": [
    "df = pd.read_excel(\"resource/preprecessed_ine_coment.xlsx\")"
   ]
  },
  {
   "cell_type": "markdown",
   "id": "69c002b7",
   "metadata": {
    "heading_collapsed": true
   },
   "source": [
    "# draw wordcloud"
   ]
  },
  {
   "cell_type": "code",
   "execution_count": 3,
   "id": "9a43851a",
   "metadata": {
    "ExecuteTime": {
     "end_time": "2021-11-12T15:27:38.132156Z",
     "start_time": "2021-11-12T15:27:37.546837Z"
    },
    "hidden": true
   },
   "outputs": [],
   "source": [
    "all_tokens = sum(df['processed_comment'].apply(lambda x: x.split()), [])"
   ]
  },
  {
   "cell_type": "code",
   "execution_count": 4,
   "id": "52de31d0",
   "metadata": {
    "ExecuteTime": {
     "end_time": "2021-11-12T15:27:38.209100Z",
     "start_time": "2021-11-12T15:27:38.195138Z"
    },
    "hidden": true
   },
   "outputs": [
    {
     "data": {
      "text/plain": [
       "[('아이네', 1425),\n",
       " ('너무', 982),\n",
       " ('좋', 818),\n",
       " ('하다', 801),\n",
       " ('보다', 778),\n",
       " ('있다', 441),\n",
       " ('진짜', 428),\n",
       " ('킹아', 393),\n",
       " ('주다', 348),\n",
       " ('귀엽', 347)]"
      ]
     },
     "execution_count": 4,
     "metadata": {},
     "output_type": "execute_result"
    }
   ],
   "source": [
    "counter = Counter(all_tokens)\n",
    "\n",
    "counter.most_common(10)"
   ]
  },
  {
   "cell_type": "code",
   "execution_count": 5,
   "id": "5f23f8f9",
   "metadata": {
    "ExecuteTime": {
     "end_time": "2021-11-12T15:27:39.614882Z",
     "start_time": "2021-11-12T15:27:38.866487Z"
    },
    "hidden": true
   },
   "outputs": [
    {
     "data": {
      "image/png": "[encoded data removed]",
      "text/plain": [
       "<Figure size 720x576 with 1 Axes>"
      ]
     },
     "metadata": {
      "needs_background": "light"
     },
     "output_type": "display_data"
    }
   ],
   "source": [
    "bgimg = Image.open('resource/wakdoo.png')\n",
    "mask = np.array(bgimg)\n",
    "\n",
    "wc = WordCloud(font_path=\"resource/D2Coding.ttf\",background_color=\"white\", max_font_size=200, mask=mask)\n",
    "cloud = wc.generate_from_frequencies(dict(counter.most_common(80)))\n",
    "cloud.to_file(\"resource/wordcloud.png\")\n",
    "\n",
    "plt.figure(figsize=(10, 8))\n",
    "plt.axis('off')\n",
    "plt.imshow(cloud)\n",
    "plt.show()"
   ]
  },
  {
   "cell_type": "markdown",
   "id": "39804f2c",
   "metadata": {
    "heading_collapsed": true
   },
   "source": [
    "# tokenizer"
   ]
  },
  {
   "cell_type": "code",
   "execution_count": 6,
   "id": "796c65bd",
   "metadata": {
    "ExecuteTime": {
     "end_time": "2021-11-12T15:27:44.312397Z",
     "start_time": "2021-11-12T15:27:44.295802Z"
    },
    "hidden": true
   },
   "outputs": [],
   "source": [
    "tokens = [\"[PAD]\", \"[UNK]\"] + [t[0] for t in counter.most_common(len(counter))]\n",
    "\n",
    "save_pickle({k: i for i, k in enumerate(tokens)}, \"resource/tokenizer.pkl\")"
   ]
  },
  {
   "cell_type": "code",
   "execution_count": 7,
   "id": "9bd003d4",
   "metadata": {
    "ExecuteTime": {
     "end_time": "2021-11-12T15:27:45.001733Z",
     "start_time": "2021-11-12T15:27:44.968511Z"
    },
    "hidden": true
   },
   "outputs": [],
   "source": [
    "tokenizer = Tokenizer(\"resource/tokenizer.pkl\")"
   ]
  },
  {
   "cell_type": "code",
   "execution_count": 8,
   "id": "9f603331",
   "metadata": {
    "ExecuteTime": {
     "end_time": "2021-11-12T15:27:45.628130Z",
     "start_time": "2021-11-12T15:27:45.616422Z"
    },
    "hidden": true
   },
   "outputs": [
    {
     "name": "stdout",
     "output_type": "stream",
     "text": [
      "아이네 먹다 경양식 돈까스 브랜드 알다 있다\n",
      "[2, 55, 1271, 1584, 3146, 28, 7]\n"
     ]
    }
   ],
   "source": [
    "sample_text = df.iloc[0, -1]\n",
    "\n",
    "print(sample_text)\n",
    "print(tokenizer.encode(sample_text))"
   ]
  },
  {
   "cell_type": "markdown",
   "id": "68ce9e2c",
   "metadata": {},
   "source": [
    "# word 2 Vec"
   ]
  },
  {
   "cell_type": "markdown",
   "id": "99e9ccd6",
   "metadata": {
    "heading_collapsed": true
   },
   "source": [
    "## data setting"
   ]
  },
  {
   "cell_type": "code",
   "execution_count": 9,
   "id": "fe9e8cf8",
   "metadata": {
    "ExecuteTime": {
     "end_time": "2021-11-12T15:27:50.753564Z",
     "start_time": "2021-11-12T15:27:50.739602Z"
    },
    "hidden": true
   },
   "outputs": [],
   "source": [
    "targets, contexts, labels = [], [], []\n",
    "\n",
    "sampling_table = tf.keras.preprocessing.sequence.make_sampling_table(tokenizer.vocab_size)"
   ]
  },
  {
   "cell_type": "code",
   "execution_count": 10,
   "id": "f1e78296",
   "metadata": {
    "ExecuteTime": {
     "end_time": "2021-11-12T15:27:57.154937Z",
     "start_time": "2021-11-12T15:27:51.410891Z"
    },
    "hidden": true
   },
   "outputs": [
    {
     "data": {
      "application/vnd.jupyter.widget-view+json": {
       "model_id": "c646e2cb9ef54d5eb5b8ac7a78cdba68",
       "version_major": 2,
       "version_minor": 0
      },
      "text/plain": [
       "  0%|          | 0/7740 [00:00<?, ?it/s]"
      ]
     },
     "metadata": {},
     "output_type": "display_data"
    }
   ],
   "source": [
    "for text in tqdm(df.processed_comment):\n",
    "    sequence = tokenizer.encode(text)\n",
    "    if len(sequence) < cfg['num_negative_samples'] * 2 + 1:\n",
    "        continue\n",
    "    \n",
    "    positive_skip_grams, _ = tf.keras.preprocessing.sequence.skipgrams(\n",
    "        sequence,\n",
    "        vocabulary_size=tokenizer.vocab_size,\n",
    "        sampling_table=sampling_table,\n",
    "        window_size=cfg['window_size'],\n",
    "        negative_samples=0\n",
    "    )\n",
    "\n",
    "    for target_word, context_word in positive_skip_grams:\n",
    "        context_class = tf.expand_dims(tf.constant([context_word], dtype=\"int64\"), 1)\n",
    "        negative_sampling_candidates, _, _ = tf.random.log_uniform_candidate_sampler(\n",
    "            true_classes=context_class,\n",
    "            num_true=1,\n",
    "            num_sampled=cfg['num_negative_samples'],\n",
    "            unique=True,\n",
    "            range_max=tokenizer.vocab_size,\n",
    "            seed=cfg['random_seed'],\n",
    "            name=\"negative_sampling\"\n",
    "        )\n",
    "\n",
    "        negative_sampling_candidates = tf.expand_dims(negative_sampling_candidates, 1)\n",
    "\n",
    "        context = tf.concat([context_class, negative_sampling_candidates], 0)\n",
    "        label = tf.constant([1] + [0] * cfg['num_negative_samples'], dtype=\"int64\")\n",
    "\n",
    "        targets.append(target_word)\n",
    "        contexts.append(context)\n",
    "        labels.append(label)"
   ]
  },
  {
   "cell_type": "code",
   "execution_count": 11,
   "id": "35caab78",
   "metadata": {
    "ExecuteTime": {
     "end_time": "2021-11-12T15:28:05.090298Z",
     "start_time": "2021-11-12T15:28:04.856742Z"
    },
    "hidden": true
   },
   "outputs": [
    {
     "data": {
      "text/plain": [
       "((14386,), (14386, 5), (14386, 5))"
      ]
     },
     "execution_count": 11,
     "metadata": {},
     "output_type": "execute_result"
    }
   ],
   "source": [
    "targets = np.array(targets)\n",
    "contexts = np.array(contexts)[:,:,0]\n",
    "labels = np.array(labels)\n",
    "\n",
    "targets.shape, contexts.shape, labels.shape"
   ]
  },
  {
   "cell_type": "code",
   "execution_count": 12,
   "id": "7c1eba43",
   "metadata": {
    "ExecuteTime": {
     "end_time": "2021-11-12T15:28:05.229408Z",
     "start_time": "2021-11-12T15:28:05.215539Z"
    },
    "hidden": true
   },
   "outputs": [
    {
     "name": "stdout",
     "output_type": "stream",
     "text": [
      "<BatchDataset shapes: (((512,), (512, 5)), (512, 5)), types: ((tf.int32, tf.int64), tf.int64)> 28\n"
     ]
    }
   ],
   "source": [
    "BATCH_SIZE = 1024\n",
    "BUFFER_SIZE = 10000\n",
    "\n",
    "dataset = tf.data.Dataset.from_tensor_slices(((targets, contexts), labels))\n",
    "dataset = dataset.shuffle(BUFFER_SIZE).batch(cfg['batch_size'], drop_remainder=True)\n",
    "\n",
    "print(dataset, len(dataset))"
   ]
  },
  {
   "cell_type": "markdown",
   "id": "b90fd2f3",
   "metadata": {},
   "source": [
    "## model define"
   ]
  },
  {
   "cell_type": "code",
   "execution_count": 65,
   "id": "6096cdf7",
   "metadata": {
    "ExecuteTime": {
     "end_time": "2021-11-12T16:32:37.793902Z",
     "start_time": "2021-11-12T16:32:37.780927Z"
    }
   },
   "outputs": [],
   "source": [
    "class Word2Vec(tf.keras.Model):\n",
    "    def __init__(self, vocab_size, embedding_size):\n",
    "        super(Word2Vec, self).__init__()\n",
    "        \n",
    "        self.vocab_size = vocab_size\n",
    "        self.embedding_size = embedding_size\n",
    "        \n",
    "#         self.embedding = tf.keras.layers.Embedding(\n",
    "#             vocab_size,\n",
    "#             embedding_size,\n",
    "#         )\n",
    "\n",
    "        self.target_embedding = tf.keras.layers.Embedding(\n",
    "            vocab_size,\n",
    "            embedding_size,\n",
    "        )\n",
    "\n",
    "        self.context_embedding = tf.keras.layers.Embedding(\n",
    "            vocab_size,\n",
    "            embedding_size,\n",
    "        )\n",
    "\n",
    "    def call(self, pair):\n",
    "        target, context = pair\n",
    "        \n",
    "        if len(target.shape) == 2:\n",
    "            target = tf.squeeze(target, axis=1)\n",
    "\n",
    "#         word_emb = self.embedding(target)\n",
    "#         context_emb = self.embedding(context)\n",
    "        word_emb = self.target_embedding(target)\n",
    "        context_emb = self.context_embedding(context)\n",
    "        output = tf.einsum('be,bce->bc', word_emb, context_emb)\n",
    "\n",
    "        return output\n",
    "\n",
    "    def get_config(self):\n",
    "        return {\n",
    "            \"vocab_size\": self.vocab_size,\n",
    "            \"embedding_size\": self.embedding_size,\n",
    "        }"
   ]
  },
  {
   "cell_type": "code",
   "execution_count": 66,
   "id": "f8e21e4f",
   "metadata": {
    "ExecuteTime": {
     "end_time": "2021-11-12T16:32:40.020288Z",
     "start_time": "2021-11-12T16:32:39.996731Z"
    }
   },
   "outputs": [],
   "source": [
    "word2vec = Word2Vec(tokenizer.vocab_size, cfg['embedding_size'])\n",
    "word2vec.compile(\n",
    "    optimizer='adam',\n",
    "    loss=tf.keras.losses.CategoricalCrossentropy(from_logits=True),\n",
    "    metrics=['accuracy']\n",
    ")"
   ]
  },
  {
   "cell_type": "markdown",
   "id": "e5db73e7",
   "metadata": {},
   "source": [
    "## train"
   ]
  },
  {
   "cell_type": "code",
   "execution_count": 67,
   "id": "053e1894",
   "metadata": {
    "ExecuteTime": {
     "end_time": "2021-11-12T16:32:41.330259Z",
     "start_time": "2021-11-12T16:32:41.319289Z"
    }
   },
   "outputs": [],
   "source": [
    "rmtree(\"logs\")\n",
    "tensorboard_callback = tf.keras.callbacks.TensorBoard(log_dir=\"logs\", update_freq='batch')"
   ]
  },
  {
   "cell_type": "code",
   "execution_count": 68,
   "id": "61c96c6b",
   "metadata": {
    "ExecuteTime": {
     "end_time": "2021-11-12T16:32:47.877260Z",
     "start_time": "2021-11-12T16:32:41.876414Z"
    }
   },
   "outputs": [
    {
     "data": {
      "text/plain": [
       "<tensorflow.python.keras.callbacks.History at 0x1ea483e3be0>"
      ]
     },
     "execution_count": 68,
     "metadata": {},
     "output_type": "execute_result"
    }
   ],
   "source": [
    "word2vec.fit(dataset, epochs=cfg['epochs'], callbacks=[tensorboard_callback], verbose=0)"
   ]
  },
  {
   "cell_type": "markdown",
   "id": "6a592a39",
   "metadata": {},
   "source": [
    "## visualize"
   ]
  },
  {
   "cell_type": "code",
   "execution_count": 44,
   "id": "223349b3",
   "metadata": {
    "ExecuteTime": {
     "end_time": "2021-11-12T16:11:00.315971Z",
     "start_time": "2021-11-12T16:11:00.303005Z"
    },
    "collapsed": true
   },
   "outputs": [
    {
     "name": "stdout",
     "output_type": "stream",
     "text": [
      "The tensorboard extension is already loaded. To reload it, use:\n",
      "  %reload_ext tensorboard\n"
     ]
    },
    {
     "data": {
      "text/plain": [
       "Reusing TensorBoard on port 6006 (pid 20540), started 2:43:17 ago. (Use '!kill 20540' to kill it.)"
      ]
     },
     "metadata": {},
     "output_type": "display_data"
    },
    {
     "data": {
      "text/html": [
       "\n",
       "      <iframe id=\"tensorboard-frame-e4d468f013fae158\" width=\"100%\" height=\"800\" frameborder=\"0\">\n",
       "      </iframe>\n",
       "      <script>\n",
       "        (function() {\n",
       "          const frame = document.getElementById(\"tensorboard-frame-e4d468f013fae158\");\n",
       "          const url = new URL(\"/\", window.location);\n",
       "          const port = 6006;\n",
       "          if (port) {\n",
       "            url.port = port;\n",
       "          }\n",
       "          frame.src = url;\n",
       "        })();\n",
       "      </script>\n",
       "    "
      ],
      "text/plain": [
       "<IPython.core.display.HTML object>"
      ]
     },
     "metadata": {},
     "output_type": "display_data"
    }
   ],
   "source": [
    "%load_ext tensorboard\n",
    "%tensorboard --logdir logs"
   ]
  },
  {
   "cell_type": "markdown",
   "id": "2feb613c",
   "metadata": {},
   "source": [
    "https://projector.tensorflow.org/"
   ]
  },
  {
   "cell_type": "code",
   "execution_count": 69,
   "id": "4fde13a4",
   "metadata": {
    "ExecuteTime": {
     "end_time": "2021-11-12T16:32:48.410066Z",
     "start_time": "2021-11-12T16:32:48.018036Z"
    }
   },
   "outputs": [],
   "source": [
    "weights = word2vec.target_embedding.get_weights()[0]\n",
    "# weights = word2vec.embedding.get_weights()[0]\n",
    "\n",
    "out_v = io.open('resource/vectors.tsv', 'w', encoding='utf-8')\n",
    "out_m = io.open('resource/metadata.tsv', 'w', encoding='utf-8')\n",
    "\n",
    "for index, word in tokenizer.id_to_word.items():\n",
    "    if index < 2:\n",
    "        continue  # skip 0, it's padding.\n",
    "    vec = weights[index]\n",
    "    out_v.write('\\t'.join([str(x) for x in vec]) + \"\\n\")\n",
    "    out_m.write(word + \"\\n\")\n",
    "    \n",
    "out_v.close()\n",
    "out_m.close()"
   ]
  }
 ],
 "metadata": {
  "kernelspec": {
   "display_name": "Python 3",
   "language": "python",
   "name": "python3"
  },
  "language_info": {
   "codemirror_mode": {
    "name": "ipython",
    "version": 3
   },
   "file_extension": ".py",
   "mimetype": "text/x-python",
   "name": "python",
   "nbconvert_exporter": "python",
   "pygments_lexer": "ipython3",
   "version": "3.8.8"
  },
  "toc": {
   "base_numbering": 1,
   "nav_menu": {},
   "number_sections": true,
   "sideBar": true,
   "skip_h1_title": false,
   "title_cell": "Table of Contents",
   "title_sidebar": "Contents",
   "toc_cell": false,
   "toc_position": {
    "height": "calc(100% - 180px)",
    "left": "10px",
    "top": "150px",
    "width": "323px"
   },
   "toc_section_display": true,
   "toc_window_display": true
  },
  "varInspector": {
   "cols": {
    "lenName": 16,
    "lenType": 16,
    "lenVar": 40
   },
   "kernels_config": {
    "python": {
     "delete_cmd_postfix": "",
     "delete_cmd_prefix": "del ",
     "library": "var_list.py",
     "varRefreshCmd": "print(var_dic_list())"
    },
    "r": {
     "delete_cmd_postfix": ") ",
     "delete_cmd_prefix": "rm(",
     "library": "var_list.r",
     "varRefreshCmd": "cat(var_dic_list()) "
    }
   },
   "types_to_exclude": [
    "module",
    "function",
    "builtin_function_or_method",
    "instance",
    "_Feature"
   ],
   "window_display": false
  }
 },
 "nbformat": 4,
 "nbformat_minor": 5
}
