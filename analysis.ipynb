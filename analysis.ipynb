{
 "cells": [
  {
   "cell_type": "markdown",
   "id": "0afaad59",
   "metadata": {},
   "source": [
    "# data preprocessing"
   ]
  },
  {
   "cell_type": "code",
   "execution_count": 1,
   "id": "b626e9b3",
   "metadata": {
    "ExecuteTime": {
     "end_time": "2021-11-12T16:30:38.852713Z",
     "start_time": "2021-11-12T16:30:38.840745Z"
    }
   },
   "outputs": [],
   "source": [
    "import io\n",
    "import json\n",
    "import os\n",
    "import pickle\n",
    "import re\n",
    "from collections import Counter\n",
    "from shutil import rmtree\n",
    "\n",
    "os.environ[\"TF_CPP_MIN_LOG_LEVEL\"] = \"2\"\n",
    "\n",
    "import matplotlib.pyplot as plt\n",
    "import numpy as np\n",
    "import pandas as pd\n",
    "import tensorflow as tf\n",
    "from tensorboard.plugins import projector\n",
    "from PIL import Image\n",
    "from soynlp.normalizer import repeat_normalize\n",
    "from hanspell import spell_checker\n",
    "# from tqdm.notebook import tqdm\n",
    "from tqdm import tqdm\n",
    "from wordcloud import WordCloud\n",
    "\n",
    "from tokenizer import Tokenizer\n",
    "from utils import load_json, save_pickle\n",
    "\n",
    "\n",
    "tqdm.pandas()\n",
    "cfg = load_json(\"config.json\")"
   ]
  },
  {
   "cell_type": "code",
   "execution_count": 2,
   "id": "2ba52263",
   "metadata": {},
   "outputs": [],
   "source": [
    "from khaiii_utils import get_khaiii_api, pos_text, stemming_text\n",
    "api = get_khaiii_api('/mnt/subdisk/workspace/khaiii/build/share/khaiii')"
   ]
  },
  {
   "cell_type": "code",
   "execution_count": 3,
   "id": "c018f2e8",
   "metadata": {},
   "outputs": [
    {
     "name": "stdout",
     "output_type": "stream",
     "text": [
      "(12305, 6)\n"
     ]
    },
    {
     "data": {
      "text/html": [
       "<div>\n",
       "<style scoped>\n",
       "    .dataframe tbody tr th:only-of-type {\n",
       "        vertical-align: middle;\n",
       "    }\n",
       "\n",
       "    .dataframe tbody tr th {\n",
       "        vertical-align: top;\n",
       "    }\n",
       "\n",
       "    .dataframe thead th {\n",
       "        text-align: right;\n",
       "    }\n",
       "</style>\n",
       "<table border=\"1\" class=\"dataframe\">\n",
       "  <thead>\n",
       "    <tr style=\"text-align: right;\">\n",
       "      <th></th>\n",
       "      <th>title</th>\n",
       "      <th>desc</th>\n",
       "      <th>channel</th>\n",
       "      <th>name</th>\n",
       "      <th>time</th>\n",
       "      <th>original_comment</th>\n",
       "    </tr>\n",
       "  </thead>\n",
       "  <tbody>\n",
       "    <tr>\n",
       "      <th>0</th>\n",
       "      <td>God knows MV 비하인드</td>\n",
       "      <td>God knows MV 비하인드  안녕하세요! 이런 브이로그/비하인드 영상을 찍어본...</td>\n",
       "      <td>아이네 INE</td>\n",
       "      <td>SARUN</td>\n",
       "      <td>2021-11-27 13:51:43</td>\n",
       "      <td>이런 형식의 영상도 너무 재밌네요 많이 찍어주세요!!</td>\n",
       "    </tr>\n",
       "    <tr>\n",
       "      <th>1</th>\n",
       "      <td>God knows MV 비하인드</td>\n",
       "      <td>God knows MV 비하인드  안녕하세요! 이런 브이로그/비하인드 영상을 찍어본...</td>\n",
       "      <td>아이네 INE</td>\n",
       "      <td>왼팔문신길막여사</td>\n",
       "      <td>2021-11-27 13:29:35</td>\n",
       "      <td>다같이 둘기 되는 거 엄청 귀엽닼ㅋㅋㅋㅋㅋㅋㅋ</td>\n",
       "    </tr>\n",
       "    <tr>\n",
       "      <th>2</th>\n",
       "      <td>God knows MV 비하인드</td>\n",
       "      <td>God knows MV 비하인드  안녕하세요! 이런 브이로그/비하인드 영상을 찍어본...</td>\n",
       "      <td>아이네 INE</td>\n",
       "      <td>꿀단지</td>\n",
       "      <td>2021-11-27 13:18:28</td>\n",
       "      <td>와 3시간 고생하셧네요</td>\n",
       "    </tr>\n",
       "    <tr>\n",
       "      <th>3</th>\n",
       "      <td>God knows MV 비하인드</td>\n",
       "      <td>God knows MV 비하인드  안녕하세요! 이런 브이로그/비하인드 영상을 찍어본...</td>\n",
       "      <td>아이네 INE</td>\n",
       "      <td>섀로</td>\n",
       "      <td>2021-11-27 13:14:08</td>\n",
       "      <td>요즘 아이네님 영상 나올 때마다 기분이 좋아져서 엔돌핀이 마구 나오는 것 같아요ㅎㅎ...</td>\n",
       "    </tr>\n",
       "    <tr>\n",
       "      <th>4</th>\n",
       "      <td>God knows MV 비하인드</td>\n",
       "      <td>God knows MV 비하인드  안녕하세요! 이런 브이로그/비하인드 영상을 찍어본...</td>\n",
       "      <td>아이네 INE</td>\n",
       "      <td>ᆞ핀팜</td>\n",
       "      <td>2021-11-27 13:07:47</td>\n",
       "      <td>진짜 이렇게 귀여울수가 없다</td>\n",
       "    </tr>\n",
       "  </tbody>\n",
       "</table>\n",
       "</div>"
      ],
      "text/plain": [
       "               title                                               desc  \\\n",
       "0  God knows MV 비하인드  God knows MV 비하인드  안녕하세요! 이런 브이로그/비하인드 영상을 찍어본...   \n",
       "1  God knows MV 비하인드  God knows MV 비하인드  안녕하세요! 이런 브이로그/비하인드 영상을 찍어본...   \n",
       "2  God knows MV 비하인드  God knows MV 비하인드  안녕하세요! 이런 브이로그/비하인드 영상을 찍어본...   \n",
       "3  God knows MV 비하인드  God knows MV 비하인드  안녕하세요! 이런 브이로그/비하인드 영상을 찍어본...   \n",
       "4  God knows MV 비하인드  God knows MV 비하인드  안녕하세요! 이런 브이로그/비하인드 영상을 찍어본...   \n",
       "\n",
       "   channel      name                 time  \\\n",
       "0  아이네 INE     SARUN  2021-11-27 13:51:43   \n",
       "1  아이네 INE  왼팔문신길막여사  2021-11-27 13:29:35   \n",
       "2  아이네 INE       꿀단지  2021-11-27 13:18:28   \n",
       "3  아이네 INE        섀로  2021-11-27 13:14:08   \n",
       "4  아이네 INE       ᆞ핀팜  2021-11-27 13:07:47   \n",
       "\n",
       "                                    original_comment  \n",
       "0                      이런 형식의 영상도 너무 재밌네요 많이 찍어주세요!!  \n",
       "1                          다같이 둘기 되는 거 엄청 귀엽닼ㅋㅋㅋㅋㅋㅋㅋ  \n",
       "2                                       와 3시간 고생하셧네요  \n",
       "3  요즘 아이네님 영상 나올 때마다 기분이 좋아져서 엔돌핀이 마구 나오는 것 같아요ㅎㅎ...  \n",
       "4                                    진짜 이렇게 귀여울수가 없다  "
      ]
     },
     "execution_count": 3,
     "metadata": {},
     "output_type": "execute_result"
    }
   ],
   "source": [
    "df = pd.read_excel(\"resource/ine_coment.xlsx\")\n",
    "print(df.shape)\n",
    "df.head()"
   ]
  },
  {
   "cell_type": "code",
   "execution_count": 4,
   "id": "d0873f2b",
   "metadata": {},
   "outputs": [
    {
     "name": "stderr",
     "output_type": "stream",
     "text": [
      "100%|██████████████████████████████████████████████████████████████████████████| 12255/12255 [00:01<00:00, 10688.52it/s]\n"
     ]
    },
    {
     "data": {
      "text/html": [
       "<div>\n",
       "<style scoped>\n",
       "    .dataframe tbody tr th:only-of-type {\n",
       "        vertical-align: middle;\n",
       "    }\n",
       "\n",
       "    .dataframe tbody tr th {\n",
       "        vertical-align: top;\n",
       "    }\n",
       "\n",
       "    .dataframe thead th {\n",
       "        text-align: right;\n",
       "    }\n",
       "</style>\n",
       "<table border=\"1\" class=\"dataframe\">\n",
       "  <thead>\n",
       "    <tr style=\"text-align: right;\">\n",
       "      <th></th>\n",
       "      <th>channel</th>\n",
       "      <th>name</th>\n",
       "      <th>original_comment</th>\n",
       "      <th>comment</th>\n",
       "    </tr>\n",
       "  </thead>\n",
       "  <tbody>\n",
       "    <tr>\n",
       "      <th>0</th>\n",
       "      <td>아이네 INE</td>\n",
       "      <td>SARUN</td>\n",
       "      <td>이런 형식의 영상도 너무 재밌네요 많이 찍어주세요!!</td>\n",
       "      <td>이런 형식의 영상도 너무 재밌네요 많이 찍어주세요</td>\n",
       "    </tr>\n",
       "    <tr>\n",
       "      <th>1</th>\n",
       "      <td>아이네 INE</td>\n",
       "      <td>왼팔문신길막여사</td>\n",
       "      <td>다같이 둘기 되는 거 엄청 귀엽닼ㅋㅋㅋㅋㅋㅋㅋ</td>\n",
       "      <td>다같이 둘기 되는 거 엄청 귀엽닼</td>\n",
       "    </tr>\n",
       "    <tr>\n",
       "      <th>2</th>\n",
       "      <td>아이네 INE</td>\n",
       "      <td>꿀단지</td>\n",
       "      <td>와 3시간 고생하셧네요</td>\n",
       "      <td>와 3시간 고생하셧네요</td>\n",
       "    </tr>\n",
       "    <tr>\n",
       "      <th>3</th>\n",
       "      <td>아이네 INE</td>\n",
       "      <td>섀로</td>\n",
       "      <td>요즘 아이네님 영상 나올 때마다 기분이 좋아져서 엔돌핀이 마구 나오는 것 같아요ㅎㅎ...</td>\n",
       "      <td>요즘 아이네님 영상 나올 때마다 기분이 좋아져서 엔돌핀이 마구 나오는 것 같아요 오...</td>\n",
       "    </tr>\n",
       "    <tr>\n",
       "      <th>4</th>\n",
       "      <td>아이네 INE</td>\n",
       "      <td>ᆞ핀팜</td>\n",
       "      <td>진짜 이렇게 귀여울수가 없다</td>\n",
       "      <td>진짜 이렇게 귀여울수가 없다</td>\n",
       "    </tr>\n",
       "  </tbody>\n",
       "</table>\n",
       "</div>"
      ],
      "text/plain": [
       "   channel      name                                   original_comment  \\\n",
       "0  아이네 INE     SARUN                      이런 형식의 영상도 너무 재밌네요 많이 찍어주세요!!   \n",
       "1  아이네 INE  왼팔문신길막여사                          다같이 둘기 되는 거 엄청 귀엽닼ㅋㅋㅋㅋㅋㅋㅋ   \n",
       "2  아이네 INE       꿀단지                                       와 3시간 고생하셧네요   \n",
       "3  아이네 INE        섀로  요즘 아이네님 영상 나올 때마다 기분이 좋아져서 엔돌핀이 마구 나오는 것 같아요ㅎㅎ...   \n",
       "4  아이네 INE       ᆞ핀팜                                    진짜 이렇게 귀여울수가 없다   \n",
       "\n",
       "                                             comment  \n",
       "0                        이런 형식의 영상도 너무 재밌네요 많이 찍어주세요  \n",
       "1                                 다같이 둘기 되는 거 엄청 귀엽닼  \n",
       "2                                       와 3시간 고생하셧네요  \n",
       "3  요즘 아이네님 영상 나올 때마다 기분이 좋아져서 엔돌핀이 마구 나오는 것 같아요 오...  \n",
       "4                                    진짜 이렇게 귀여울수가 없다  "
      ]
     },
     "execution_count": 4,
     "metadata": {},
     "output_type": "execute_result"
    }
   ],
   "source": [
    "def normalize(text):\n",
    "    if not isinstance(text, str):\n",
    "        return \"\"\n",
    "    text = text.replace(\"_x000D_\", \" \")\n",
    "    text = text.replace(\"\\n\", \" \")\n",
    "    text = text.replace(\"넴\", \"님\")\n",
    "    text = text.replace(\"팅아\", \"킹아\")\n",
    "    text = text.replace(\"는데\", \"다\")\n",
    "    text = text.replace(\"아니네\", \"아이네\")\n",
    "    text = text.replace(\"님모\", \"너무\")\n",
    "    text = text.replace(\"해미네\", \"햄이네\")\n",
    "    text = text.replace(\"무7년\", \"무친년\")\n",
    "    text = text.replace(\"콘텐츠\", \"컨텐츠\")\n",
    "    text = text.replace(\"안되\", \"안돼\")\n",
    "    text = text.replace(\"우리네\", \"아리네\") # khaiii가 우리 / 네 로 잘라서 계속 사라짐. 나중에 다시 바꿔주기\n",
    "    \n",
    "    text = re.sub(r'ㄱㅇㅇ|700', r'귀여워', text)\n",
    "    text = re.sub(r'(?<=\\w)넘', r'님', text)\n",
    "    text = re.sub(\"http[s]?://(?:[a-zA-Z]|[0-9]|[$\\-@\\.&+:/?=]|[!*\\(\\),]|(?:%[0-9a-fA-F][0-9a-fA-F]))+\", \"\", text)\n",
    "    text = re.sub(r'\\d+(:\\d+)+|[^ 가-힣a-z0-9]', r' ', text.lower())\n",
    "    text = repeat_normalize(text, 3)\n",
    "    text = re.sub(r'(.{3,}?)\\1+', r'\\1', text)\n",
    "    return text.strip()\n",
    "\n",
    "df = df[df['name'] != df['channel']]\n",
    "df['comment'] = df['original_comment'].progress_apply(normalize)\n",
    "df = df[df['comment'].str.len() > 1]\n",
    "df = df[['channel', 'name', 'original_comment', 'comment']]\n",
    "df.head(5)"
   ]
  },
  {
   "cell_type": "code",
   "execution_count": 5,
   "id": "57137510",
   "metadata": {},
   "outputs": [],
   "source": [
    "# def spell_check(text):\n",
    "#     while True:\n",
    "#         try:\n",
    "#             text = spell_checker.check(text).checked\n",
    "#             break\n",
    "#         except:\n",
    "#             pass\n",
    "# #     text = spell_checker.check(text).checked\n",
    "    \n",
    "#     text = re.sub(\"둘 기|두 기\", '둘기', text)\n",
    "#     text = re.sub(\"우리나라\", '우리네', text)\n",
    "#     text = re.sub(\"나그네\", '느그네', text)\n",
    "#     text = re.sub(\"아키 데이터\", '아키네이터', text)\n",
    "#     text = re.sub(\"아 ?이 ?네\", \"아이네\", text)\n",
    "#     text = re.sub(\"징 ?버 ?거|징벌 거|장 버거|진 바가\", \"징버거\", text)\n",
    "#     text = re.sub(\"릴 ?파|릴이|리파\", \"릴파\", text)\n",
    "#     text = re.sub(\"주 ?르 ?르\", \"주르르\", text)\n",
    "#     text = re.sub(\"고 ?세 ?구|킹 ?세 ?구\", \"고세구\", text)\n",
    "#     text = re.sub(\"비 ?챤|비참|비천\", \"비챤\", text)\n",
    "#     text = re.sub(\"글 라모스|글 ?라 ?도 ?스\", \"글라도스\", text)\n",
    "#     text = re.sub(\"준내\", \"쥰내\", text)\n",
    "#     text = re.sub(\"나그네인 저\", \"느그레인저\", text)\n",
    "#     text = re.sub(\"센 ?세 ?이\", \"겐세이\", text)\n",
    "#     text = re.sub(\"어멍 어스\", \"어몽어스\", text)\n",
    "#     text = re.sub(\"레 ?게 ?노\", \"레게노\", text)\n",
    "#     text = re.sub(\"모 ?시 ?깽\", \"모시깽\", text)\n",
    "#     text = re.sub(\"셋소 마루\", \"셋쇼마루\", text)\n",
    "#     text = re.sub(\"네 절\", \"뇌절\", text)\n",
    "#     text = re.sub(\"깨우\", \"깨부\", text)\n",
    "#     text = re.sub(\"몰리겠네\", \"몰루겠네\", text)\n",
    "#     text = re.sub(\"존 번\", \"존버\", text)\n",
    "#     text = re.sub(\"킹이 아\", \"킹아\", text)\n",
    "#     text = re.sub(\"아이마크|아이 마슈|아 ?이 ?마 ? 스?\", \"아이마스\", text)\n",
    "#     text = re.sub(\"커요 움\", \"커여움\", text)\n",
    "#     text = re.sub(\"인덕|이덕\", \"입덕\", text)\n",
    "#     text = re.sub(\"원투\", \"원툴\", text)\n",
    "    \n",
    "#     return text"
   ]
  },
  {
   "cell_type": "code",
   "execution_count": 6,
   "id": "d2a7c9e5",
   "metadata": {},
   "outputs": [],
   "source": [
    "# df['comment'] = df['comment'].progress_apply(spell_check)\n",
    "\n",
    "# df = df[df.comment != \"\"]\n",
    "\n",
    "# df.head()"
   ]
  },
  {
   "cell_type": "code",
   "execution_count": 7,
   "id": "8495621d",
   "metadata": {},
   "outputs": [
    {
     "data": {
      "text/html": [
       "<div>\n",
       "<style scoped>\n",
       "    .dataframe tbody tr th:only-of-type {\n",
       "        vertical-align: middle;\n",
       "    }\n",
       "\n",
       "    .dataframe tbody tr th {\n",
       "        vertical-align: top;\n",
       "    }\n",
       "\n",
       "    .dataframe thead th {\n",
       "        text-align: right;\n",
       "    }\n",
       "</style>\n",
       "<table border=\"1\" class=\"dataframe\">\n",
       "  <thead>\n",
       "    <tr style=\"text-align: right;\">\n",
       "      <th></th>\n",
       "      <th>channel</th>\n",
       "      <th>name</th>\n",
       "      <th>original_comment</th>\n",
       "      <th>comment</th>\n",
       "    </tr>\n",
       "  </thead>\n",
       "  <tbody>\n",
       "    <tr>\n",
       "      <th>0</th>\n",
       "      <td>아이네 INE</td>\n",
       "      <td>SARUN</td>\n",
       "      <td>이런 형식의 영상도 너무 재밌네요 많이 찍어주세요!!</td>\n",
       "      <td>형식 영상 너무 재미있 많이 찍다 주다</td>\n",
       "    </tr>\n",
       "    <tr>\n",
       "      <th>1</th>\n",
       "      <td>아이네 INE</td>\n",
       "      <td>왼팔문신길막여사</td>\n",
       "      <td>다같이 둘기 되는 거 엄청 귀엽닼ㅋㅋㅋㅋㅋㅋㅋ</td>\n",
       "      <td>다 같이 둘기 되다 엄청 귀엽닼다</td>\n",
       "    </tr>\n",
       "    <tr>\n",
       "      <th>2</th>\n",
       "      <td>아이네 INE</td>\n",
       "      <td>꿀단지</td>\n",
       "      <td>와 3시간 고생하셧네요</td>\n",
       "      <td>오다 시간 고생하다</td>\n",
       "    </tr>\n",
       "    <tr>\n",
       "      <th>3</th>\n",
       "      <td>아이네 INE</td>\n",
       "      <td>섀로</td>\n",
       "      <td>요즘 아이네님 영상 나올 때마다 기분이 좋아져서 엔돌핀이 마구 나오는 것 같아요ㅎㅎ...</td>\n",
       "      <td>요즘 아이네 영상 나오다 때 기분 좋 지다 엔돌핀 마구 나오다 같 오늘 영상 눈물 ...</td>\n",
       "    </tr>\n",
       "    <tr>\n",
       "      <th>4</th>\n",
       "      <td>아이네 INE</td>\n",
       "      <td>ᆞ핀팜</td>\n",
       "      <td>진짜 이렇게 귀여울수가 없다</td>\n",
       "      <td>진짜 이렇 귀여 수 없</td>\n",
       "    </tr>\n",
       "  </tbody>\n",
       "</table>\n",
       "</div>"
      ],
      "text/plain": [
       "   channel      name                                   original_comment  \\\n",
       "0  아이네 INE     SARUN                      이런 형식의 영상도 너무 재밌네요 많이 찍어주세요!!   \n",
       "1  아이네 INE  왼팔문신길막여사                          다같이 둘기 되는 거 엄청 귀엽닼ㅋㅋㅋㅋㅋㅋㅋ   \n",
       "2  아이네 INE       꿀단지                                       와 3시간 고생하셧네요   \n",
       "3  아이네 INE        섀로  요즘 아이네님 영상 나올 때마다 기분이 좋아져서 엔돌핀이 마구 나오는 것 같아요ㅎㅎ...   \n",
       "4  아이네 INE       ᆞ핀팜                                    진짜 이렇게 귀여울수가 없다   \n",
       "\n",
       "                                             comment  \n",
       "0                              형식 영상 너무 재미있 많이 찍다 주다  \n",
       "1                                 다 같이 둘기 되다 엄청 귀엽닼다  \n",
       "2                                         오다 시간 고생하다  \n",
       "3  요즘 아이네 영상 나오다 때 기분 좋 지다 엔돌핀 마구 나오다 같 오늘 영상 눈물 ...  \n",
       "4                                       진짜 이렇 귀여 수 없  "
      ]
     },
     "execution_count": 7,
     "metadata": {},
     "output_type": "execute_result"
    }
   ],
   "source": [
    "pos_tagged_corpus = pos_text(df.comment, api)\n",
    "df['comment'] = stemming_text(pos_tagged_corpus)\n",
    "df['comment'] = df['comment'].apply(\n",
    "    lambda x: ' '.join(\n",
    "        [\n",
    "            w.split('/')[0] \n",
    "            for w in x.split() \n",
    "            if w.split('/')[1] in ['NNG', 'NNP', 'VV', 'VA', 'MAG', 'MAJ']\n",
    "        ]\n",
    "    )\n",
    ")\n",
    "df = df[df['comment'] != \"\"]\n",
    "df.head()"
   ]
  },
  {
   "cell_type": "code",
   "execution_count": 8,
   "id": "ee8c85b5",
   "metadata": {},
   "outputs": [],
   "source": [
    "def normalize_word(text):\n",
    "    result = []\n",
    "    \n",
    "    for word in text.split():\n",
    "        if word.startswith(\"좋\"):\n",
    "            word = \"좋다\"\n",
    "        elif word.startswith(\"싫\"):\n",
    "            word = \"싫다\"\n",
    "        elif word in ['귀엽', '귀다', '귀여우다', '귀여워하다', '귀이다', '귀여웤다', '귀엽뽀짝하다', '귀엽잖', '귀엽넼다', '귀하', '귀여다', '귀엽네', '귀엽땨다', '귀', '귀염', '귀여', '귀여우시다']:\n",
    "            word = \"귀엽다\"\n",
    "        elif word == \"없\":\n",
    "            word = \"없다\"\n",
    "        elif word in ['진짜웃기넼다', '진짴', '진자', '진', '진짜하다']:\n",
    "            word = \"진짜\"\n",
    "        elif \"노래뱅\" in word:\n",
    "            word = \"노래뱅\"\n",
    "        elif word.startswith(\"노래\"):\n",
    "            word = \"노래\" if word == \"노래하다\" else word\n",
    "        elif \"아이네\" in word:\n",
    "            word = \"아이네\"\n",
    "        elif \"햄이네\" in word:\n",
    "            word = \"햄이네\"\n",
    "        elif word in ['와꿋', \"와꾸텽\", \"와꾸텽하다\", \"왁구텽\", \"왁굳텽\", \"왁구텽다\"]:\n",
    "            word = \"왁굳형\"\n",
    "        elif \"비둘기\" in word:\n",
    "            word = \"비둘기\"\n",
    "        elif word == \"아리네\":\n",
    "            word = \"우리네\"\n",
    "        \n",
    "        result.append(word)\n",
    "    \n",
    "    return \" \".join(result)"
   ]
  },
  {
   "cell_type": "code",
   "execution_count": 9,
   "id": "fd3846bb",
   "metadata": {},
   "outputs": [
    {
     "data": {
      "text/html": [
       "<div>\n",
       "<style scoped>\n",
       "    .dataframe tbody tr th:only-of-type {\n",
       "        vertical-align: middle;\n",
       "    }\n",
       "\n",
       "    .dataframe tbody tr th {\n",
       "        vertical-align: top;\n",
       "    }\n",
       "\n",
       "    .dataframe thead th {\n",
       "        text-align: right;\n",
       "    }\n",
       "</style>\n",
       "<table border=\"1\" class=\"dataframe\">\n",
       "  <thead>\n",
       "    <tr style=\"text-align: right;\">\n",
       "      <th></th>\n",
       "      <th>channel</th>\n",
       "      <th>name</th>\n",
       "      <th>original_comment</th>\n",
       "      <th>comment</th>\n",
       "    </tr>\n",
       "  </thead>\n",
       "  <tbody>\n",
       "    <tr>\n",
       "      <th>0</th>\n",
       "      <td>아이네 INE</td>\n",
       "      <td>SARUN</td>\n",
       "      <td>이런 형식의 영상도 너무 재밌네요 많이 찍어주세요!!</td>\n",
       "      <td>형식 영상 너무 재미있 많이 찍다 주다</td>\n",
       "    </tr>\n",
       "    <tr>\n",
       "      <th>1</th>\n",
       "      <td>아이네 INE</td>\n",
       "      <td>왼팔문신길막여사</td>\n",
       "      <td>다같이 둘기 되는 거 엄청 귀엽닼ㅋㅋㅋㅋㅋㅋㅋ</td>\n",
       "      <td>다 같이 둘기 되다 엄청 귀엽닼다</td>\n",
       "    </tr>\n",
       "    <tr>\n",
       "      <th>2</th>\n",
       "      <td>아이네 INE</td>\n",
       "      <td>꿀단지</td>\n",
       "      <td>와 3시간 고생하셧네요</td>\n",
       "      <td>오다 시간 고생하다</td>\n",
       "    </tr>\n",
       "    <tr>\n",
       "      <th>3</th>\n",
       "      <td>아이네 INE</td>\n",
       "      <td>섀로</td>\n",
       "      <td>요즘 아이네님 영상 나올 때마다 기분이 좋아져서 엔돌핀이 마구 나오는 것 같아요ㅎㅎ...</td>\n",
       "      <td>요즘 아이네 영상 나오다 때 기분 좋다 지다 엔돌핀 마구 나오다 같 오늘 영상 눈물...</td>\n",
       "    </tr>\n",
       "    <tr>\n",
       "      <th>4</th>\n",
       "      <td>아이네 INE</td>\n",
       "      <td>ᆞ핀팜</td>\n",
       "      <td>진짜 이렇게 귀여울수가 없다</td>\n",
       "      <td>진짜 이렇 귀엽다 수 없다</td>\n",
       "    </tr>\n",
       "  </tbody>\n",
       "</table>\n",
       "</div>"
      ],
      "text/plain": [
       "   channel      name                                   original_comment  \\\n",
       "0  아이네 INE     SARUN                      이런 형식의 영상도 너무 재밌네요 많이 찍어주세요!!   \n",
       "1  아이네 INE  왼팔문신길막여사                          다같이 둘기 되는 거 엄청 귀엽닼ㅋㅋㅋㅋㅋㅋㅋ   \n",
       "2  아이네 INE       꿀단지                                       와 3시간 고생하셧네요   \n",
       "3  아이네 INE        섀로  요즘 아이네님 영상 나올 때마다 기분이 좋아져서 엔돌핀이 마구 나오는 것 같아요ㅎㅎ...   \n",
       "4  아이네 INE       ᆞ핀팜                                    진짜 이렇게 귀여울수가 없다   \n",
       "\n",
       "                                             comment  \n",
       "0                              형식 영상 너무 재미있 많이 찍다 주다  \n",
       "1                                 다 같이 둘기 되다 엄청 귀엽닼다  \n",
       "2                                         오다 시간 고생하다  \n",
       "3  요즘 아이네 영상 나오다 때 기분 좋다 지다 엔돌핀 마구 나오다 같 오늘 영상 눈물...  \n",
       "4                                     진짜 이렇 귀엽다 수 없다  "
      ]
     },
     "execution_count": 9,
     "metadata": {},
     "output_type": "execute_result"
    }
   ],
   "source": [
    "df['comment'] = df['comment'].apply(normalize_word)\n",
    "df = df[df['comment'] != \"\"]\n",
    "df.head()"
   ]
  },
  {
   "cell_type": "code",
   "execution_count": 10,
   "id": "ea5e0a60",
   "metadata": {},
   "outputs": [],
   "source": [
    "df.to_excel(\"resource/preprecessed_ine_coment.xlsx\", index=None)"
   ]
  },
  {
   "cell_type": "code",
   "execution_count": 11,
   "id": "78c29a48",
   "metadata": {
    "ExecuteTime": {
     "end_time": "2021-11-12T15:27:34.300498Z",
     "start_time": "2021-11-12T15:27:32.880237Z"
    }
   },
   "outputs": [],
   "source": [
    "df = pd.read_excel(\"resource/preprecessed_ine_coment.xlsx\")"
   ]
  },
  {
   "cell_type": "markdown",
   "id": "a4788401",
   "metadata": {
    "heading_collapsed": true
   },
   "source": [
    "# draw wordcloud"
   ]
  },
  {
   "cell_type": "code",
   "execution_count": 12,
   "id": "6787b1b2",
   "metadata": {
    "ExecuteTime": {
     "end_time": "2021-11-12T15:27:38.132156Z",
     "start_time": "2021-11-12T15:27:37.546837Z"
    },
    "hidden": true
   },
   "outputs": [],
   "source": [
    "all_tokens = sum(df['comment'].apply(lambda x: x.split()), [])"
   ]
  },
  {
   "cell_type": "code",
   "execution_count": 13,
   "id": "2074e1e3",
   "metadata": {
    "ExecuteTime": {
     "end_time": "2021-11-12T15:27:38.209100Z",
     "start_time": "2021-11-12T15:27:38.195138Z"
    },
    "hidden": true
   },
   "outputs": [
    {
     "data": {
      "text/plain": [
       "[('아이네', 2187),\n",
       " ('너무', 1485),\n",
       " ('좋다', 1334),\n",
       " ('하다', 1074),\n",
       " ('보다', 1051),\n",
       " ('귀엽다', 964),\n",
       " ('진짜', 843),\n",
       " ('있다', 656),\n",
       " ('오다', 585),\n",
       " ('킹아', 565)]"
      ]
     },
     "execution_count": 13,
     "metadata": {},
     "output_type": "execute_result"
    }
   ],
   "source": [
    "counter = Counter(all_tokens)\n",
    "\n",
    "counter.most_common(10)"
   ]
  },
  {
   "cell_type": "code",
   "execution_count": 14,
   "id": "8a0f0ace",
   "metadata": {
    "ExecuteTime": {
     "end_time": "2021-11-12T15:27:39.614882Z",
     "start_time": "2021-11-12T15:27:38.866487Z"
    },
    "hidden": true
   },
   "outputs": [
    {
     "data": {
      "image/png": "[encoded data removed]",
      "text/plain": [
       "<Figure size 720x576 with 1 Axes>"
      ]
     },
     "metadata": {
      "needs_background": "light"
     },
     "output_type": "display_data"
    }
   ],
   "source": [
    "bgimg = Image.open('resource/silhouette.png')\n",
    "mask = np.array(bgimg)\n",
    "\n",
    "\n",
    "def color_func(word, font_size, position,orientation,random_state=None, **kwargs):\n",
    "    return \"hsl({:d},{:d}%, {:d}%)\".format(\n",
    "        np.random.randint(260,280),\n",
    "        np.random.randint(60,70),\n",
    "        np.random.randint(60,70)\n",
    "    )\n",
    "\n",
    "wc = WordCloud(\n",
    "    font_path=\"resource/D2Coding.ttf\", \n",
    "    background_color=\"white\", \n",
    "    color_func=color_func,\n",
    "    max_font_size=300, \n",
    "    mask=mask\n",
    ")\n",
    "cloud = wc.generate_from_frequencies(dict(counter.most_common(300)))\n",
    "cloud.to_file(\"resource/wordcloud.png\")\n",
    "\n",
    "plt.figure(figsize=(10, 8))\n",
    "plt.axis('off')\n",
    "plt.imshow(cloud)\n",
    "plt.show()"
   ]
  },
  {
   "cell_type": "markdown",
   "id": "c7460852",
   "metadata": {
    "heading_collapsed": true
   },
   "source": [
    "# tokenizer"
   ]
  },
  {
   "cell_type": "code",
   "execution_count": 15,
   "id": "31a5bb35",
   "metadata": {
    "ExecuteTime": {
     "end_time": "2021-11-12T15:27:44.312397Z",
     "start_time": "2021-11-12T15:27:44.295802Z"
    },
    "hidden": true
   },
   "outputs": [],
   "source": [
    "tokens = [\"[PAD]\", \"[UNK]\"] + [t[0] for t in counter.most_common(len(counter))]\n",
    "\n",
    "save_pickle({k: i for i, k in enumerate(tokens)}, \"resource/tokenizer.pkl\")"
   ]
  },
  {
   "cell_type": "code",
   "execution_count": 16,
   "id": "34429c4c",
   "metadata": {
    "ExecuteTime": {
     "end_time": "2021-11-12T15:27:45.001733Z",
     "start_time": "2021-11-12T15:27:44.968511Z"
    },
    "hidden": true
   },
   "outputs": [],
   "source": [
    "tokenizer = Tokenizer(\"resource/tokenizer.pkl\")"
   ]
  },
  {
   "cell_type": "code",
   "execution_count": 17,
   "id": "7d4a4705",
   "metadata": {
    "ExecuteTime": {
     "end_time": "2021-11-12T15:27:45.628130Z",
     "start_time": "2021-11-12T15:27:45.616422Z"
    },
    "hidden": true
   },
   "outputs": [
    {
     "name": "stdout",
     "output_type": "stream",
     "text": [
      "형식 영상 너무 재미있 많이 찍다 주다\n",
      "[2741, 15, 3, 60, 65, 364, 13]\n"
     ]
    }
   ],
   "source": [
    "sample_text = df.iloc[0, -1]\n",
    "\n",
    "print(sample_text)\n",
    "print(tokenizer.encode(sample_text))"
   ]
  },
  {
   "cell_type": "markdown",
   "id": "fe682f21",
   "metadata": {},
   "source": [
    "# word 2 Vec"
   ]
  },
  {
   "cell_type": "markdown",
   "id": "f67a4a47",
   "metadata": {
    "heading_collapsed": true
   },
   "source": [
    "## data setting"
   ]
  },
  {
   "cell_type": "code",
   "execution_count": 18,
   "id": "64fd71d0",
   "metadata": {
    "ExecuteTime": {
     "end_time": "2021-11-12T15:27:50.753564Z",
     "start_time": "2021-11-12T15:27:50.739602Z"
    },
    "hidden": true
   },
   "outputs": [],
   "source": [
    "targets, contexts, labels = [], [], []\n",
    "\n",
    "sampling_table = tf.keras.preprocessing.sequence.make_sampling_table(tokenizer.vocab_size)"
   ]
  },
  {
   "cell_type": "code",
   "execution_count": 19,
   "id": "f9669b59",
   "metadata": {
    "ExecuteTime": {
     "end_time": "2021-11-12T15:27:57.154937Z",
     "start_time": "2021-11-12T15:27:51.410891Z"
    },
    "hidden": true
   },
   "outputs": [
    {
     "name": "stderr",
     "output_type": "stream",
     "text": [
      "100%|████████████████████████████████████████████████████████████████████████████| 11475/11475 [00:18<00:00, 633.35it/s]\n"
     ]
    }
   ],
   "source": [
    "for text in tqdm(df.comment):\n",
    "    sequence = tokenizer.encode(text)\n",
    "    if len(sequence) < cfg['window_size'] * 2 + 1:\n",
    "        continue\n",
    "    \n",
    "    positive_skip_grams, _ = tf.keras.preprocessing.sequence.skipgrams(\n",
    "        sequence,\n",
    "        vocabulary_size=tokenizer.vocab_size,\n",
    "        sampling_table=sampling_table,\n",
    "        window_size=cfg['window_size'],\n",
    "        negative_samples=0\n",
    "    )\n",
    "    \n",
    "    for target_word, context_word in positive_skip_grams:\n",
    "        context_class = tf.expand_dims(tf.constant([context_word], dtype=\"int64\"), 1)\n",
    "        negative_sampling_candidates, _, _ = tf.random.log_uniform_candidate_sampler(\n",
    "            true_classes=context_class,\n",
    "            num_true=1,\n",
    "            num_sampled=cfg['num_negative_samples'],\n",
    "            unique=True,\n",
    "            range_max=tokenizer.vocab_size,\n",
    "            seed=cfg['random_seed'],\n",
    "            name=\"negative_sampling\"\n",
    "        )\n",
    "\n",
    "        negative_sampling_candidates = tf.expand_dims(negative_sampling_candidates, 1)\n",
    "\n",
    "        context = tf.concat([context_class, negative_sampling_candidates], 0)\n",
    "        label = tf.constant([1] + [0] * cfg['num_negative_samples'], dtype=\"int64\")\n",
    "\n",
    "        targets.append(target_word)\n",
    "        contexts.append(context)\n",
    "        labels.append(label)"
   ]
  },
  {
   "cell_type": "code",
   "execution_count": 20,
   "id": "a17cd497",
   "metadata": {
    "ExecuteTime": {
     "end_time": "2021-11-12T15:28:05.090298Z",
     "start_time": "2021-11-12T15:28:04.856742Z"
    },
    "hidden": true
   },
   "outputs": [
    {
     "data": {
      "text/plain": [
       "((34911,), (34911, 5), (34911, 5))"
      ]
     },
     "execution_count": 20,
     "metadata": {},
     "output_type": "execute_result"
    }
   ],
   "source": [
    "targets = np.array(targets)\n",
    "contexts = np.array(contexts)[:,:,0]\n",
    "labels = np.array(labels)\n",
    "\n",
    "targets.shape, contexts.shape, labels.shape"
   ]
  },
  {
   "cell_type": "code",
   "execution_count": 21,
   "id": "b09a8824",
   "metadata": {
    "ExecuteTime": {
     "end_time": "2021-11-12T15:28:05.229408Z",
     "start_time": "2021-11-12T15:28:05.215539Z"
    },
    "hidden": true
   },
   "outputs": [
    {
     "name": "stdout",
     "output_type": "stream",
     "text": [
      "<PrefetchDataset shapes: (((None,), (None, 5)), (None, 5)), types: ((tf.int64, tf.int64), tf.int64)> 35\n"
     ]
    }
   ],
   "source": [
    "BUFFER_SIZE = 10000\n",
    "\n",
    "dataset = tf.data.Dataset.from_tensor_slices(((targets, contexts), labels))\n",
    "dataset = dataset.shuffle(BUFFER_SIZE).batch(cfg['batch_size'], drop_remainder=False)\n",
    "dataset = dataset.prefetch(buffer_size=tf.data.AUTOTUNE)\n",
    "\n",
    "print(dataset, len(dataset))"
   ]
  },
  {
   "cell_type": "markdown",
   "id": "403d534c",
   "metadata": {},
   "source": [
    "## model define"
   ]
  },
  {
   "cell_type": "code",
   "execution_count": 22,
   "id": "a01d17a0",
   "metadata": {
    "ExecuteTime": {
     "end_time": "2021-11-12T16:32:37.793902Z",
     "start_time": "2021-11-12T16:32:37.780927Z"
    }
   },
   "outputs": [],
   "source": [
    "class Word2Vec(tf.keras.Model):\n",
    "    def __init__(self, vocab_size, embedding_size):\n",
    "        super(Word2Vec, self).__init__()\n",
    "        \n",
    "        self.vocab_size = vocab_size\n",
    "        self.embedding_size = embedding_size\n",
    "\n",
    "        self.target_embedding = tf.keras.layers.Embedding(\n",
    "            vocab_size,\n",
    "            embedding_size,\n",
    "            embeddings_initializer=tf.keras.initializers.TruncatedNormal(\n",
    "                stddev=0.02, \n",
    "                seed=cfg['random_seed']\n",
    "            )\n",
    "        )\n",
    "\n",
    "        self.context_embedding = tf.keras.layers.Embedding(\n",
    "            vocab_size,\n",
    "            embedding_size,\n",
    "            embeddings_initializer=tf.keras.initializers.TruncatedNormal(\n",
    "                stddev=0.02, \n",
    "                seed=cfg['random_seed']\n",
    "            )\n",
    "        )\n",
    "\n",
    "    def call(self, pair):\n",
    "        target, context = pair\n",
    "        \n",
    "        if len(target.shape) == 2:\n",
    "            target = tf.squeeze(target, axis=1)\n",
    "\n",
    "        word_emb = self.target_embedding(target)\n",
    "        context_emb = self.context_embedding(context)\n",
    "        output = tf.einsum('be,bce->bc', word_emb, context_emb)\n",
    "\n",
    "        return output\n",
    "\n",
    "    def get_config(self):\n",
    "        return {\n",
    "            \"vocab_size\": self.vocab_size,\n",
    "            \"embedding_size\": self.embedding_size,\n",
    "        }"
   ]
  },
  {
   "cell_type": "code",
   "execution_count": 23,
   "id": "e17bc499",
   "metadata": {
    "ExecuteTime": {
     "end_time": "2021-11-12T16:32:40.020288Z",
     "start_time": "2021-11-12T16:32:39.996731Z"
    }
   },
   "outputs": [],
   "source": [
    "word2vec = Word2Vec(tokenizer.vocab_size, cfg['embedding_size'])\n",
    "word2vec.compile(\n",
    "    optimizer=tf.keras.optimizers.Adam(cfg['learning_rate']),\n",
    "    loss=tf.keras.losses.CategoricalCrossentropy(from_logits=True),\n",
    "    metrics=['accuracy']\n",
    ")"
   ]
  },
  {
   "cell_type": "markdown",
   "id": "97e2fe8c",
   "metadata": {},
   "source": [
    "## train"
   ]
  },
  {
   "cell_type": "code",
   "execution_count": 24,
   "id": "8d2f7503",
   "metadata": {
    "ExecuteTime": {
     "end_time": "2021-11-12T16:32:41.330259Z",
     "start_time": "2021-11-12T16:32:41.319289Z"
    }
   },
   "outputs": [],
   "source": [
    "if os.path.isdir('logs'):\n",
    "    rmtree(\"logs\")\n",
    "tensorboard_callback = tf.keras.callbacks.TensorBoard(log_dir=\"logs\", update_freq='batch')"
   ]
  },
  {
   "cell_type": "code",
   "execution_count": 25,
   "id": "4f53ec0a",
   "metadata": {
    "ExecuteTime": {
     "end_time": "2021-11-12T16:32:47.877260Z",
     "start_time": "2021-11-12T16:32:41.876414Z"
    }
   },
   "outputs": [
    {
     "name": "stdout",
     "output_type": "stream",
     "text": [
      "Epoch 1/20\n",
      "35/35 [==============================] - 2s 31ms/step - loss: 1.6093 - accuracy: 0.2114\n",
      "Epoch 2/20\n",
      "35/35 [==============================] - 1s 15ms/step - loss: 1.6048 - accuracy: 0.6318\n",
      "Epoch 3/20\n",
      "35/35 [==============================] - 1s 15ms/step - loss: 1.5992 - accuracy: 0.8580\n",
      "Epoch 4/20\n",
      "35/35 [==============================] - 1s 16ms/step - loss: 1.5909 - accuracy: 0.9301\n",
      "Epoch 5/20\n",
      "35/35 [==============================] - 1s 15ms/step - loss: 1.5780 - accuracy: 0.9494\n",
      "Epoch 6/20\n",
      "35/35 [==============================] - 1s 15ms/step - loss: 1.5589 - accuracy: 0.9520\n",
      "Epoch 7/20\n",
      "35/35 [==============================] - 1s 14ms/step - loss: 1.5322 - accuracy: 0.9498\n",
      "Epoch 8/20\n",
      "35/35 [==============================] - 1s 14ms/step - loss: 1.4978 - accuracy: 0.9466\n",
      "Epoch 9/20\n",
      "35/35 [==============================] - 1s 14ms/step - loss: 1.4559 - accuracy: 0.9438\n",
      "Epoch 10/20\n",
      "35/35 [==============================] - 1s 15ms/step - loss: 1.4075 - accuracy: 0.9427\n",
      "Epoch 11/20\n",
      "35/35 [==============================] - 1s 15ms/step - loss: 1.3539 - accuracy: 0.9416\n",
      "Epoch 12/20\n",
      "35/35 [==============================] - 1s 15ms/step - loss: 1.2963 - accuracy: 0.9418\n",
      "Epoch 13/20\n",
      "35/35 [==============================] - 1s 15ms/step - loss: 1.2359 - accuracy: 0.9427\n",
      "Epoch 14/20\n",
      "35/35 [==============================] - 1s 15ms/step - loss: 1.1739 - accuracy: 0.9437\n",
      "Epoch 15/20\n",
      "35/35 [==============================] - 1s 15ms/step - loss: 1.1112 - accuracy: 0.9459\n",
      "Epoch 16/20\n",
      "35/35 [==============================] - 1s 15ms/step - loss: 1.0487 - accuracy: 0.9480\n",
      "Epoch 17/20\n",
      "35/35 [==============================] - 1s 15ms/step - loss: 0.9874 - accuracy: 0.9500\n",
      "Epoch 18/20\n",
      "35/35 [==============================] - 1s 14ms/step - loss: 0.9276 - accuracy: 0.9522\n",
      "Epoch 19/20\n",
      "35/35 [==============================] - 1s 15ms/step - loss: 0.8697 - accuracy: 0.9543\n",
      "Epoch 20/20\n",
      "35/35 [==============================] - 1s 15ms/step - loss: 0.8144 - accuracy: 0.9569\n"
     ]
    },
    {
     "data": {
      "text/plain": [
       "<tensorflow.python.keras.callbacks.History at 0x7f9d64bb9670>"
      ]
     },
     "execution_count": 25,
     "metadata": {},
     "output_type": "execute_result"
    }
   ],
   "source": [
    "word2vec.fit(dataset, epochs=cfg['epochs'], callbacks=[tensorboard_callback], verbose=1)\n",
    "# word2vec.fit(dataset, epochs=40, callbacks=[tensorboard_callback], verbose=0)"
   ]
  },
  {
   "cell_type": "markdown",
   "id": "5554a6b9",
   "metadata": {},
   "source": [
    "## visualize"
   ]
  },
  {
   "cell_type": "code",
   "execution_count": 26,
   "id": "b2fa1e78",
   "metadata": {
    "ExecuteTime": {
     "end_time": "2021-11-12T16:11:00.315971Z",
     "start_time": "2021-11-12T16:11:00.303005Z"
    }
   },
   "outputs": [],
   "source": [
    "# %load_ext tensorboard\n",
    "# %tensorboard --logdir logs"
   ]
  },
  {
   "cell_type": "markdown",
   "id": "673a3ac5",
   "metadata": {},
   "source": [
    "https://projector.tensorflow.org/?config=https://raw.githubusercontent.com/Nam-SW/INE_comment_analysis/main/resource/projector_config.json\n",
    "\n",
    "업데이트 하려면 push 해아함!"
   ]
  },
  {
   "cell_type": "code",
   "execution_count": 27,
   "id": "7bb44225",
   "metadata": {
    "ExecuteTime": {
     "end_time": "2021-11-12T16:32:48.410066Z",
     "start_time": "2021-11-12T16:32:48.018036Z"
    }
   },
   "outputs": [],
   "source": [
    "weights = word2vec.target_embedding.get_weights()[0]\n",
    "# weights = word2vec.embedding.get_weights()[0]\n",
    "\n",
    "out_v = io.open('resource/vectors.tsv', 'w', encoding='utf-8')\n",
    "out_m = io.open('resource/metadata.tsv', 'w', encoding='utf-8')\n",
    "\n",
    "for index, word in tokenizer.id_to_word.items():\n",
    "    if index < 2:\n",
    "        continue  # skip 0, it's padding.\n",
    "    vec = weights[index]\n",
    "    out_v.write('\\t'.join([str(x) for x in vec]) + \"\\n\")\n",
    "    out_m.write(word + \"\\n\")\n",
    "    \n",
    "out_v.close()\n",
    "out_m.close()"
   ]
  },
  {
   "cell_type": "code",
   "execution_count": 28,
   "id": "020cd46f",
   "metadata": {},
   "outputs": [
    {
     "name": "stdout",
     "output_type": "stream",
     "text": [
      "{'embeddings': [{'tensorName': 'Ine word2vec', 'tensorShape': [10755, 128], 'tensorPath': 'https://raw.githubusercontent.com/Nam-SW/INE_comment_analysis/main/resource/vectors.tsv', 'metadataPath': 'https://raw.githubusercontent.com/Nam-SW/INE_comment_analysis/main/resource/metadata.tsv'}]}\n"
     ]
    }
   ],
   "source": [
    "config = {\n",
    "  \"embeddings\": [\n",
    "    {\n",
    "      \"tensorName\": \"Ine word2vec\",\n",
    "      \"tensorShape\": list(weights[2:].shape),\n",
    "      \"tensorPath\": \"https://raw.githubusercontent.com/Nam-SW/INE_comment_analysis/main/resource/vectors.tsv\",\n",
    "      \"metadataPath\": \"https://raw.githubusercontent.com/Nam-SW/INE_comment_analysis/main/resource/metadata.tsv\"\n",
    "    }\n",
    "  ]\n",
    "}\n",
    "print(config)"
   ]
  },
  {
   "cell_type": "code",
   "execution_count": 29,
   "id": "637e6304",
   "metadata": {},
   "outputs": [],
   "source": [
    "with open('resource/projector_config.json', \"w\", encoding='utf-8') as f:\n",
    "    json.dump(config, f)"
   ]
  }
 ],
 "metadata": {
  "kernelspec": {
   "display_name": "Python 3 (ipykernel)",
   "language": "python",
   "name": "python3"
  },
  "language_info": {
   "codemirror_mode": {
    "name": "ipython",
    "version": 3
   },
   "file_extension": ".py",
   "mimetype": "text/x-python",
   "name": "python",
   "nbconvert_exporter": "python",
   "pygments_lexer": "ipython3",
   "version": "3.9.5"
  },
  "toc": {
   "base_numbering": 1,
   "nav_menu": {},
   "number_sections": true,
   "sideBar": true,
   "skip_h1_title": false,
   "title_cell": "Table of Contents",
   "title_sidebar": "Contents",
   "toc_cell": false,
   "toc_position": {
    "height": "calc(100% - 180px)",
    "left": "10px",
    "top": "150px",
    "width": "323px"
   },
   "toc_section_display": true,
   "toc_window_display": true
  },
  "varInspector": {
   "cols": {
    "lenName": 16,
    "lenType": 16,
    "lenVar": 40
   },
   "kernels_config": {
    "python": {
     "delete_cmd_postfix": "",
     "delete_cmd_prefix": "del ",
     "library": "var_list.py",
     "varRefreshCmd": "print(var_dic_list())"
    },
    "r": {
     "delete_cmd_postfix": ") ",
     "delete_cmd_prefix": "rm(",
     "library": "var_list.r",
     "varRefreshCmd": "cat(var_dic_list()) "
    }
   },
   "types_to_exclude": [
    "module",
    "function",
    "builtin_function_or_method",
    "instance",
    "_Feature"
   ],
   "window_display": false
  }
 },
 "nbformat": 4,
 "nbformat_minor": 5
}
