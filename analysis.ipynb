{
 "cells": [
  {
   "cell_type": "markdown",
   "id": "0a78159f",
   "metadata": {},
   "source": [
    "# data preprocessing"
   ]
  },
  {
   "cell_type": "code",
   "execution_count": 23,
   "id": "43c3c64a",
   "metadata": {},
   "outputs": [],
   "source": [
    "import re\n",
    "import pickle\n",
    "from collections import Counter\n",
    "\n",
    "import pandas as pd\n",
    "import numpy as np\n",
    "import matplotlib.pyplot as plt\n",
    "from wordcloud import WordCloud\n",
    "from soynlp.normalizer import repeat_normalize\n",
    "from PIL import Image\n",
    "\n",
    "from utils import get_khaiii_api, load_json, pos_text, stemming_text\n",
    "from tokenizer import Tokenizer\n",
    "\n",
    "\n",
    "cfg = load_json(\"config.json\")"
   ]
  },
  {
   "cell_type": "code",
   "execution_count": 2,
   "id": "4cf2544e",
   "metadata": {},
   "outputs": [],
   "source": [
    "api = get_khaiii_api('/mnt/subdisk/workspace/khaiii/build/share/khaiii')"
   ]
  },
  {
   "cell_type": "code",
   "execution_count": 7,
   "id": "af406848",
   "metadata": {},
   "outputs": [
    {
     "data": {
      "text/html": [
       "<div>\n",
       "<style scoped>\n",
       "    .dataframe tbody tr th:only-of-type {\n",
       "        vertical-align: middle;\n",
       "    }\n",
       "\n",
       "    .dataframe tbody tr th {\n",
       "        vertical-align: top;\n",
       "    }\n",
       "\n",
       "    .dataframe thead th {\n",
       "        text-align: right;\n",
       "    }\n",
       "</style>\n",
       "<table border=\"1\" class=\"dataframe\">\n",
       "  <thead>\n",
       "    <tr style=\"text-align: right;\">\n",
       "      <th></th>\n",
       "      <th>title</th>\n",
       "      <th>desc</th>\n",
       "      <th>name</th>\n",
       "      <th>time</th>\n",
       "      <th>comment</th>\n",
       "    </tr>\n",
       "  </thead>\n",
       "  <tbody>\n",
       "    <tr>\n",
       "      <th>0</th>\n",
       "      <td>방송의 5할이 먹는 이야기</td>\n",
       "      <td>20210913. 20211024 아이네의 최애 버거는?  아이네 생방송: http...</td>\n",
       "      <td>한량프로</td>\n",
       "      <td>2021-11-11 07:52:37</td>\n",
       "      <td>잘 먹고 건강만 해다오 ㅋㅋㅋㅋㅋㅋㅋㅋ</td>\n",
       "    </tr>\n",
       "    <tr>\n",
       "      <th>1</th>\n",
       "      <td>방송의 5할이 먹는 이야기</td>\n",
       "      <td>20210913. 20211024 아이네의 최애 버거는?  아이네 생방송: http...</td>\n",
       "      <td>권재혁</td>\n",
       "      <td>2021-11-11 07:51:59</td>\n",
       "      <td>호오... 아이네상... 꽤 높은 먹투력이군요...</td>\n",
       "    </tr>\n",
       "    <tr>\n",
       "      <th>2</th>\n",
       "      <td>방송의 5할이 먹는 이야기</td>\n",
       "      <td>20210913. 20211024 아이네의 최애 버거는?  아이네 생방송: http...</td>\n",
       "      <td>릅릅</td>\n",
       "      <td>2021-11-11 07:49:29</td>\n",
       "      <td>0:51 백신맞고와서 뽀로로밴드 붙인거네ㅋㅋㅋ</td>\n",
       "    </tr>\n",
       "    <tr>\n",
       "      <th>3</th>\n",
       "      <td>방송의 5할이 먹는 이야기</td>\n",
       "      <td>20210913. 20211024 아이네의 최애 버거는?  아이네 생방송: http...</td>\n",
       "      <td>이로운</td>\n",
       "      <td>2021-11-11 07:47:29</td>\n",
       "      <td>재밌는 영상 감사합니다 잘 볼게용</td>\n",
       "    </tr>\n",
       "    <tr>\n",
       "      <th>4</th>\n",
       "      <td>방송의 5할이 먹는 이야기</td>\n",
       "      <td>20210913. 20211024 아이네의 최애 버거는?  아이네 생방송: http...</td>\n",
       "      <td>오월비 MayB</td>\n",
       "      <td>2021-11-11 07:47:26</td>\n",
       "      <td>아니 어떻게 트러플 머쉬룸 와퍼가 단종되지???!! 진짜 어이없네…</td>\n",
       "    </tr>\n",
       "  </tbody>\n",
       "</table>\n",
       "</div>"
      ],
      "text/plain": [
       "            title                                               desc  \\\n",
       "0  방송의 5할이 먹는 이야기  20210913. 20211024 아이네의 최애 버거는?  아이네 생방송: http...   \n",
       "1  방송의 5할이 먹는 이야기  20210913. 20211024 아이네의 최애 버거는?  아이네 생방송: http...   \n",
       "2  방송의 5할이 먹는 이야기  20210913. 20211024 아이네의 최애 버거는?  아이네 생방송: http...   \n",
       "3  방송의 5할이 먹는 이야기  20210913. 20211024 아이네의 최애 버거는?  아이네 생방송: http...   \n",
       "4  방송의 5할이 먹는 이야기  20210913. 20211024 아이네의 최애 버거는?  아이네 생방송: http...   \n",
       "\n",
       "       name                 time                                comment  \n",
       "0      한량프로  2021-11-11 07:52:37                  잘 먹고 건강만 해다오 ㅋㅋㅋㅋㅋㅋㅋㅋ  \n",
       "1       권재혁  2021-11-11 07:51:59           호오... 아이네상... 꽤 높은 먹투력이군요...  \n",
       "2        릅릅  2021-11-11 07:49:29              0:51 백신맞고와서 뽀로로밴드 붙인거네ㅋㅋㅋ  \n",
       "3       이로운  2021-11-11 07:47:29                     재밌는 영상 감사합니다 잘 볼게용  \n",
       "4  오월비 MayB  2021-11-11 07:47:26  아니 어떻게 트러플 머쉬룸 와퍼가 단종되지???!! 진짜 어이없네…  "
      ]
     },
     "execution_count": 7,
     "metadata": {},
     "output_type": "execute_result"
    }
   ],
   "source": [
    "df = pd.read_excel(cfg['output_dir'] + \"/ine_coment.xlsx\")\n",
    "df.head()"
   ]
  },
  {
   "cell_type": "code",
   "execution_count": 11,
   "id": "2cb74009",
   "metadata": {},
   "outputs": [
    {
     "data": {
      "text/html": [
       "<div>\n",
       "<style scoped>\n",
       "    .dataframe tbody tr th:only-of-type {\n",
       "        vertical-align: middle;\n",
       "    }\n",
       "\n",
       "    .dataframe tbody tr th {\n",
       "        vertical-align: top;\n",
       "    }\n",
       "\n",
       "    .dataframe thead th {\n",
       "        text-align: right;\n",
       "    }\n",
       "</style>\n",
       "<table border=\"1\" class=\"dataframe\">\n",
       "  <thead>\n",
       "    <tr style=\"text-align: right;\">\n",
       "      <th></th>\n",
       "      <th>title</th>\n",
       "      <th>desc</th>\n",
       "      <th>name</th>\n",
       "      <th>time</th>\n",
       "      <th>comment</th>\n",
       "    </tr>\n",
       "  </thead>\n",
       "  <tbody>\n",
       "    <tr>\n",
       "      <th>0</th>\n",
       "      <td>방송의 5할이 먹는 이야기</td>\n",
       "      <td>20210913. 20211024 아이네의 최애 버거는?  아이네 생방송: http...</td>\n",
       "      <td>한량프로</td>\n",
       "      <td>2021-11-11 07:52:37</td>\n",
       "      <td>잘 먹고 건강만 해다오</td>\n",
       "    </tr>\n",
       "    <tr>\n",
       "      <th>1</th>\n",
       "      <td>방송의 5할이 먹는 이야기</td>\n",
       "      <td>20210913. 20211024 아이네의 최애 버거는?  아이네 생방송: http...</td>\n",
       "      <td>권재혁</td>\n",
       "      <td>2021-11-11 07:51:59</td>\n",
       "      <td>호오 아이네상 꽤 높은 먹투력이군요</td>\n",
       "    </tr>\n",
       "    <tr>\n",
       "      <th>2</th>\n",
       "      <td>방송의 5할이 먹는 이야기</td>\n",
       "      <td>20210913. 20211024 아이네의 최애 버거는?  아이네 생방송: http...</td>\n",
       "      <td>릅릅</td>\n",
       "      <td>2021-11-11 07:49:29</td>\n",
       "      <td>백신맞고와서 뽀로로밴드 붙인거네</td>\n",
       "    </tr>\n",
       "    <tr>\n",
       "      <th>3</th>\n",
       "      <td>방송의 5할이 먹는 이야기</td>\n",
       "      <td>20210913. 20211024 아이네의 최애 버거는?  아이네 생방송: http...</td>\n",
       "      <td>이로운</td>\n",
       "      <td>2021-11-11 07:47:29</td>\n",
       "      <td>재밌는 영상 감사합니다 잘 볼게용</td>\n",
       "    </tr>\n",
       "    <tr>\n",
       "      <th>4</th>\n",
       "      <td>방송의 5할이 먹는 이야기</td>\n",
       "      <td>20210913. 20211024 아이네의 최애 버거는?  아이네 생방송: http...</td>\n",
       "      <td>오월비 MayB</td>\n",
       "      <td>2021-11-11 07:47:26</td>\n",
       "      <td>아니 어떻게 트러플 머쉬룸 와퍼가 단종되지 진짜 어이없네</td>\n",
       "    </tr>\n",
       "  </tbody>\n",
       "</table>\n",
       "</div>"
      ],
      "text/plain": [
       "            title                                               desc  \\\n",
       "0  방송의 5할이 먹는 이야기  20210913. 20211024 아이네의 최애 버거는?  아이네 생방송: http...   \n",
       "1  방송의 5할이 먹는 이야기  20210913. 20211024 아이네의 최애 버거는?  아이네 생방송: http...   \n",
       "2  방송의 5할이 먹는 이야기  20210913. 20211024 아이네의 최애 버거는?  아이네 생방송: http...   \n",
       "3  방송의 5할이 먹는 이야기  20210913. 20211024 아이네의 최애 버거는?  아이네 생방송: http...   \n",
       "4  방송의 5할이 먹는 이야기  20210913. 20211024 아이네의 최애 버거는?  아이네 생방송: http...   \n",
       "\n",
       "       name                 time                          comment  \n",
       "0      한량프로  2021-11-11 07:52:37                     잘 먹고 건강만 해다오  \n",
       "1       권재혁  2021-11-11 07:51:59              호오 아이네상 꽤 높은 먹투력이군요  \n",
       "2        릅릅  2021-11-11 07:49:29                백신맞고와서 뽀로로밴드 붙인거네  \n",
       "3       이로운  2021-11-11 07:47:29               재밌는 영상 감사합니다 잘 볼게용  \n",
       "4  오월비 MayB  2021-11-11 07:47:26  아니 어떻게 트러플 머쉬룸 와퍼가 단종되지 진짜 어이없네  "
      ]
     },
     "execution_count": 11,
     "metadata": {},
     "output_type": "execute_result"
    }
   ],
   "source": [
    "def normalize(text):\n",
    "    text = text.replace(\"_x000D_\", \" \")\n",
    "    text = text.replace(\"\\n\", \" \")\n",
    "    text = text.replace(\"넴\", \"님\")\n",
    "    text = text.replace(\"는데\", \"다\")\n",
    "    text = text.replace(\"아니네\", \"아이네\")\n",
    "    text = text.replace(\"해미네\", \"햄이네\")\n",
    "    text = re.sub(\"http[s]?://(?:[a-zA-Z]|[0-9]|[$\\-@\\.&+:/?=]|[!*\\(\\),]|(?:%[0-9a-fA-F][0-9a-fA-F]))+\", \"\", text)\n",
    "    text = re.sub(r'\\d+(:\\d+)+|[^ 가-힣0-9]', r' ', text)\n",
    "    text = repeat_normalize(text, 3)\n",
    "    text = re.sub(r'(.{3,}?)\\1+', r'\\1', text)\n",
    "    return text.strip()\n",
    "\n",
    "df = df[df['name'] != '아이네 INE']\n",
    "df['comment'] = df['comment'].apply(normalize)\n",
    "df = df[df['comment'].str.len() > 1]\n",
    "df.head(5)"
   ]
  },
  {
   "cell_type": "code",
   "execution_count": 12,
   "id": "59a449a5",
   "metadata": {},
   "outputs": [],
   "source": [
    "pos_tagged_corpus = pos_text(df.comment, api)\n",
    "df['processed_comment'] = stemming_text(pos_tagged_corpus)"
   ]
  },
  {
   "cell_type": "code",
   "execution_count": 13,
   "id": "07d042c6",
   "metadata": {},
   "outputs": [
    {
     "data": {
      "text/plain": [
       "0                          잘/MAG 먹다/VV 건강/NNG 하다/VV 오/NNG\n",
       "1                 호오/NNP 아이네/NNP 상/NNG 꽤/MAG 높/VA 먹투력/NNG\n",
       "2                          백신맞/NNG 뽀로로밴드/NNG 붙이다/VV 거/NNG\n",
       "3                  재밌/VA 영상/NNG 감사하다/VV 잘/MAG 볼/NNG 용/NNG\n",
       "4       어떻/VA 트/NNG 러다/VV 플/NNG 머쉬룸/NNG 와퍼/NNG 단종되다/VV...\n",
       "                              ...                        \n",
       "8268                                                     \n",
       "8270                                      아이네/NNP 아이네/NNP\n",
       "8271                                        앙/NNP 구독띠/NNG\n",
       "8272                                                     \n",
       "8273                          빠/NNB 당/NNG 아이네/NNP 파이팅/NNG\n",
       "Name: processed_comment, Length: 7753, dtype: object"
      ]
     },
     "execution_count": 13,
     "metadata": {},
     "output_type": "execute_result"
    }
   ],
   "source": [
    "df['processed_comment']"
   ]
  },
  {
   "cell_type": "code",
   "execution_count": 15,
   "id": "d8d7bada",
   "metadata": {},
   "outputs": [
    {
     "data": {
      "text/html": [
       "<div>\n",
       "<style scoped>\n",
       "    .dataframe tbody tr th:only-of-type {\n",
       "        vertical-align: middle;\n",
       "    }\n",
       "\n",
       "    .dataframe tbody tr th {\n",
       "        vertical-align: top;\n",
       "    }\n",
       "\n",
       "    .dataframe thead th {\n",
       "        text-align: right;\n",
       "    }\n",
       "</style>\n",
       "<table border=\"1\" class=\"dataframe\">\n",
       "  <thead>\n",
       "    <tr style=\"text-align: right;\">\n",
       "      <th></th>\n",
       "      <th>title</th>\n",
       "      <th>desc</th>\n",
       "      <th>name</th>\n",
       "      <th>time</th>\n",
       "      <th>comment</th>\n",
       "      <th>processed_comment</th>\n",
       "    </tr>\n",
       "  </thead>\n",
       "  <tbody>\n",
       "    <tr>\n",
       "      <th>0</th>\n",
       "      <td>방송의 5할이 먹는 이야기</td>\n",
       "      <td>20210913. 20211024 아이네의 최애 버거는?  아이네 생방송: http...</td>\n",
       "      <td>한량프로</td>\n",
       "      <td>2021-11-11 07:52:37</td>\n",
       "      <td>잘 먹고 건강만 해다오</td>\n",
       "      <td>잘 먹다 건강 하다 오</td>\n",
       "    </tr>\n",
       "    <tr>\n",
       "      <th>1</th>\n",
       "      <td>방송의 5할이 먹는 이야기</td>\n",
       "      <td>20210913. 20211024 아이네의 최애 버거는?  아이네 생방송: http...</td>\n",
       "      <td>권재혁</td>\n",
       "      <td>2021-11-11 07:51:59</td>\n",
       "      <td>호오 아이네상 꽤 높은 먹투력이군요</td>\n",
       "      <td>호오 아이네 상 꽤 높 먹투력</td>\n",
       "    </tr>\n",
       "    <tr>\n",
       "      <th>2</th>\n",
       "      <td>방송의 5할이 먹는 이야기</td>\n",
       "      <td>20210913. 20211024 아이네의 최애 버거는?  아이네 생방송: http...</td>\n",
       "      <td>릅릅</td>\n",
       "      <td>2021-11-11 07:49:29</td>\n",
       "      <td>백신맞고와서 뽀로로밴드 붙인거네</td>\n",
       "      <td>백신맞 뽀로로밴드 붙이다 거</td>\n",
       "    </tr>\n",
       "    <tr>\n",
       "      <th>3</th>\n",
       "      <td>방송의 5할이 먹는 이야기</td>\n",
       "      <td>20210913. 20211024 아이네의 최애 버거는?  아이네 생방송: http...</td>\n",
       "      <td>이로운</td>\n",
       "      <td>2021-11-11 07:47:29</td>\n",
       "      <td>재밌는 영상 감사합니다 잘 볼게용</td>\n",
       "      <td>재밌 영상 감사하다 잘 볼 용</td>\n",
       "    </tr>\n",
       "    <tr>\n",
       "      <th>4</th>\n",
       "      <td>방송의 5할이 먹는 이야기</td>\n",
       "      <td>20210913. 20211024 아이네의 최애 버거는?  아이네 생방송: http...</td>\n",
       "      <td>오월비 MayB</td>\n",
       "      <td>2021-11-11 07:47:26</td>\n",
       "      <td>아니 어떻게 트러플 머쉬룸 와퍼가 단종되지 진짜 어이없네</td>\n",
       "      <td>어떻 트 러다 플 머쉬룸 와퍼 단종되다 진짜 어이없</td>\n",
       "    </tr>\n",
       "  </tbody>\n",
       "</table>\n",
       "</div>"
      ],
      "text/plain": [
       "            title                                               desc  \\\n",
       "0  방송의 5할이 먹는 이야기  20210913. 20211024 아이네의 최애 버거는?  아이네 생방송: http...   \n",
       "1  방송의 5할이 먹는 이야기  20210913. 20211024 아이네의 최애 버거는?  아이네 생방송: http...   \n",
       "2  방송의 5할이 먹는 이야기  20210913. 20211024 아이네의 최애 버거는?  아이네 생방송: http...   \n",
       "3  방송의 5할이 먹는 이야기  20210913. 20211024 아이네의 최애 버거는?  아이네 생방송: http...   \n",
       "4  방송의 5할이 먹는 이야기  20210913. 20211024 아이네의 최애 버거는?  아이네 생방송: http...   \n",
       "\n",
       "       name                 time                          comment  \\\n",
       "0      한량프로  2021-11-11 07:52:37                     잘 먹고 건강만 해다오   \n",
       "1       권재혁  2021-11-11 07:51:59              호오 아이네상 꽤 높은 먹투력이군요   \n",
       "2        릅릅  2021-11-11 07:49:29                백신맞고와서 뽀로로밴드 붙인거네   \n",
       "3       이로운  2021-11-11 07:47:29               재밌는 영상 감사합니다 잘 볼게용   \n",
       "4  오월비 MayB  2021-11-11 07:47:26  아니 어떻게 트러플 머쉬룸 와퍼가 단종되지 진짜 어이없네   \n",
       "\n",
       "              processed_comment  \n",
       "0                  잘 먹다 건강 하다 오  \n",
       "1              호오 아이네 상 꽤 높 먹투력  \n",
       "2               백신맞 뽀로로밴드 붙이다 거  \n",
       "3              재밌 영상 감사하다 잘 볼 용  \n",
       "4  어떻 트 러다 플 머쉬룸 와퍼 단종되다 진짜 어이없  "
      ]
     },
     "execution_count": 15,
     "metadata": {},
     "output_type": "execute_result"
    }
   ],
   "source": [
    "df['processed_comment'] = df['processed_comment'].apply(\n",
    "    lambda x: ' '.join(\n",
    "        [\n",
    "            w.split('/')[0] \n",
    "            for w in x.split() \n",
    "            if w.split('/')[1] in ['NNG', 'NNP', 'VV', 'VA', 'MAG', 'MAJ']\n",
    "        ]\n",
    "    )\n",
    ")\n",
    "df = df[df['processed_comment'] != \"\"]\n",
    "df.head()"
   ]
  },
  {
   "cell_type": "markdown",
   "id": "b4ac1e7d",
   "metadata": {},
   "source": [
    "# draw wordcloud"
   ]
  },
  {
   "cell_type": "code",
   "execution_count": 20,
   "id": "d59d041b",
   "metadata": {},
   "outputs": [],
   "source": [
    "all_tokens = sum(df['processed_comment'].apply(lambda x: x.split()), [])"
   ]
  },
  {
   "cell_type": "code",
   "execution_count": 21,
   "id": "e371de14",
   "metadata": {},
   "outputs": [
    {
     "data": {
      "text/plain": [
       "[('아이네', 1397),\n",
       " ('너무', 970),\n",
       " ('좋', 805),\n",
       " ('하다', 780),\n",
       " ('보다', 768),\n",
       " ('있다', 432),\n",
       " ('진짜', 420),\n",
       " ('킹아', 388),\n",
       " ('주다', 346),\n",
       " ('귀엽', 344)]"
      ]
     },
     "execution_count": 21,
     "metadata": {},
     "output_type": "execute_result"
    }
   ],
   "source": [
    "counter = Counter(all_tokens)\n",
    "\n",
    "counter.most_common(10)"
   ]
  },
  {
   "cell_type": "code",
   "execution_count": 49,
   "id": "069b07bf",
   "metadata": {},
   "outputs": [
    {
     "data": {
      "image/png": "[encoded data removed]",
      "text/plain": [
       "<Figure size 720x576 with 1 Axes>"
      ]
     },
     "metadata": {
      "needs_background": "light"
     },
     "output_type": "display_data"
    }
   ],
   "source": [
    "bgimg = Image.open('resource/wakdoo.png')\n",
    "mask = np.array(bgimg)\n",
    "\n",
    "wc = WordCloud(font_path=cfg['font_path'],background_color=\"white\", max_font_size=200, mask=mask)\n",
    "cloud = wc.generate_from_frequencies(dict(counter.most_common(80)))\n",
    "cloud.to_file(\"resource/wordcloud.png\")\n",
    "\n",
    "plt.figure(figsize=(10, 8))\n",
    "plt.axis('off')\n",
    "plt.imshow(cloud)\n",
    "plt.show()"
   ]
  },
  {
   "cell_type": "markdown",
   "id": "a4a6037a",
   "metadata": {},
   "source": [
    "# tokenizer"
   ]
  },
  {
   "cell_type": "code",
   "execution_count": 29,
   "id": "97649c17",
   "metadata": {},
   "outputs": [],
   "source": [
    "tokens = [\"[PAD]\", \"[UNK]\"] + [t[0] for t in counter.most_common(len(counter))]\n",
    "\n",
    "with open(\"resource/tokenizer.pkl\", \"wb\") as f:\n",
    "    pickle.dump({k: i for i, k in enumerate(tokens)}, f)"
   ]
  },
  {
   "cell_type": "code",
   "execution_count": 30,
   "id": "2459f33f",
   "metadata": {},
   "outputs": [],
   "source": [
    "tokenizer = Tokenizer(\"resource/tokenizer.pkl\")"
   ]
  },
  {
   "cell_type": "code",
   "execution_count": 33,
   "id": "32c9e468",
   "metadata": {},
   "outputs": [
    {
     "name": "stdout",
     "output_type": "stream",
     "text": [
      "잘 먹다 건강 하다 오\n",
      "[12, 62, 1257, 5, 125]\n"
     ]
    }
   ],
   "source": [
    "sample_text = df.iloc[0, -1]\n",
    "\n",
    "print(sample_text)\n",
    "print(tokenizer.encode(sample_text))"
   ]
  }
 ],
 "metadata": {
  "kernelspec": {
   "display_name": "Python 3 (ipykernel)",
   "language": "python",
   "name": "python3"
  },
  "language_info": {
   "codemirror_mode": {
    "name": "ipython",
    "version": 3
   },
   "file_extension": ".py",
   "mimetype": "text/x-python",
   "name": "python",
   "nbconvert_exporter": "python",
   "pygments_lexer": "ipython3",
   "version": "3.9.5"
  }
 },
 "nbformat": 4,
 "nbformat_minor": 5
}
